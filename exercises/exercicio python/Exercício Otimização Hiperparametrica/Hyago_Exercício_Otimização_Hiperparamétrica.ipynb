{
  "cells": [
    {
      "cell_type": "markdown",
      "metadata": {
        "id": "Zo2JiEtkzvQL"
      },
      "source": [
        "# Exercício sobre otimização hiperparamétrica para regressão de preços de residências usando redes neurais densas (DNNs)\n",
        "\n",
        "Neste exercício, você irá encontrar o melhor conjunto de hiperparâmetros de um modelo para regressão.\n",
        "\n",
        "Leia atentamente o conteúdo de todas as células e sigas as intruções abaixo.\n",
        "\n",
        "Ao final, responda:\n",
        "\n",
        "+ Qual o melhor conjunto de hiperparâmetros encontrado?\n",
        "+ Esse resultado é melhor do que aquele que encontramos em sala de aula?\n",
        "\n",
        "### Nome: Hyago Vieira Lemes Barbosa Silva\n",
        "### Matrícula: 922"
      ]
    },
    {
      "cell_type": "markdown",
      "metadata": {
        "id": "z56YN3JZ0Duh"
      },
      "source": [
        "## Importe as bibliotecas\n",
        "\n",
        "Execute a célula abaixo."
      ]
    },
    {
      "cell_type": "code",
      "execution_count": 1,
      "metadata": {
        "colab": {
          "base_uri": "https://localhost:8080/"
        },
        "id": "YfPnR74Gzc_q",
        "outputId": "18fe26d9-f18e-46a1-8947-b7365bb734df"
      },
      "outputs": [
        {
          "output_type": "stream",
          "name": "stdout",
          "text": [
            "Collecting keras-tuner\n",
            "  Downloading keras_tuner-1.4.3-py3-none-any.whl (127 kB)\n",
            "\u001b[?25l     \u001b[90m━━━━━━━━━━━━━━━━━━━━━━━━━━━━━━━━━━━━━━━━\u001b[0m \u001b[32m0.0/127.9 kB\u001b[0m \u001b[31m?\u001b[0m eta \u001b[36m-:--:--\u001b[0m\r\u001b[2K     \u001b[90m━━━━━━━━━━━━━━━━━━━━━━━━━━━━━━━━━━━━━━━\u001b[0m \u001b[32m127.9/127.9 kB\u001b[0m \u001b[31m4.1 MB/s\u001b[0m eta \u001b[36m0:00:00\u001b[0m\n",
            "\u001b[?25hCollecting keras-core (from keras-tuner)\n",
            "  Downloading keras_core-0.1.7-py3-none-any.whl (950 kB)\n",
            "\u001b[?25l     \u001b[90m━━━━━━━━━━━━━━━━━━━━━━━━━━━━━━━━━━━━━━━━\u001b[0m \u001b[32m0.0/950.8 kB\u001b[0m \u001b[31m?\u001b[0m eta \u001b[36m-:--:--\u001b[0m\r\u001b[2K     \u001b[90m━━━━━━━━━━━━━━━━━━━━━━━━━━━━━━━━━━━━━━\u001b[0m \u001b[32m950.8/950.8 kB\u001b[0m \u001b[31m42.5 MB/s\u001b[0m eta \u001b[36m0:00:00\u001b[0m\n",
            "\u001b[?25hRequirement already satisfied: packaging in /usr/local/lib/python3.10/dist-packages (from keras-tuner) (23.1)\n",
            "Requirement already satisfied: requests in /usr/local/lib/python3.10/dist-packages (from keras-tuner) (2.31.0)\n",
            "Collecting kt-legacy (from keras-tuner)\n",
            "  Downloading kt_legacy-1.0.5-py3-none-any.whl (9.6 kB)\n",
            "Requirement already satisfied: absl-py in /usr/local/lib/python3.10/dist-packages (from keras-core->keras-tuner) (1.4.0)\n",
            "Requirement already satisfied: numpy in /usr/local/lib/python3.10/dist-packages (from keras-core->keras-tuner) (1.23.5)\n",
            "Requirement already satisfied: rich in /usr/local/lib/python3.10/dist-packages (from keras-core->keras-tuner) (13.5.2)\n",
            "Collecting namex (from keras-core->keras-tuner)\n",
            "  Downloading namex-0.0.7-py3-none-any.whl (5.8 kB)\n",
            "Requirement already satisfied: h5py in /usr/local/lib/python3.10/dist-packages (from keras-core->keras-tuner) (3.9.0)\n",
            "Requirement already satisfied: dm-tree in /usr/local/lib/python3.10/dist-packages (from keras-core->keras-tuner) (0.1.8)\n",
            "Requirement already satisfied: charset-normalizer<4,>=2 in /usr/local/lib/python3.10/dist-packages (from requests->keras-tuner) (3.2.0)\n",
            "Requirement already satisfied: idna<4,>=2.5 in /usr/local/lib/python3.10/dist-packages (from requests->keras-tuner) (3.4)\n",
            "Requirement already satisfied: urllib3<3,>=1.21.1 in /usr/local/lib/python3.10/dist-packages (from requests->keras-tuner) (2.0.4)\n",
            "Requirement already satisfied: certifi>=2017.4.17 in /usr/local/lib/python3.10/dist-packages (from requests->keras-tuner) (2023.7.22)\n",
            "Requirement already satisfied: markdown-it-py>=2.2.0 in /usr/local/lib/python3.10/dist-packages (from rich->keras-core->keras-tuner) (3.0.0)\n",
            "Requirement already satisfied: pygments<3.0.0,>=2.13.0 in /usr/local/lib/python3.10/dist-packages (from rich->keras-core->keras-tuner) (2.16.1)\n",
            "Requirement already satisfied: mdurl~=0.1 in /usr/local/lib/python3.10/dist-packages (from markdown-it-py>=2.2.0->rich->keras-core->keras-tuner) (0.1.2)\n",
            "Installing collected packages: namex, kt-legacy, keras-core, keras-tuner\n",
            "Successfully installed keras-core-0.1.7 keras-tuner-1.4.3 kt-legacy-1.0.5 namex-0.0.7\n"
          ]
        }
      ],
      "source": [
        "# Instalando o KerasTuner.\n",
        "!pip install keras-tuner --upgrade"
      ]
    },
    {
      "cell_type": "code",
      "source": [
        "import numpy as np\n",
        "import matplotlib.pyplot as plt\n",
        "import tensorflow as tf\n",
        "# Importamos a classe StandardScaler.\n",
        "from sklearn.preprocessing import StandardScaler\n",
        "# Importanda a biblioteca KerasTuner.\n",
        "import keras_tuner as kt"
      ],
      "metadata": {
        "colab": {
          "base_uri": "https://localhost:8080/"
        },
        "id": "pNS4uARhYc20",
        "outputId": "dee00468-788f-4b7c-ded5-1a4d8c6f0472"
      },
      "execution_count": 3,
      "outputs": [
        {
          "output_type": "stream",
          "name": "stdout",
          "text": [
            "Using TensorFlow backend\n"
          ]
        }
      ]
    },
    {
      "cell_type": "markdown",
      "metadata": {
        "id": "xrGLDV6q0PCc"
      },
      "source": [
        "## Baixe a base de dados\n",
        "\n",
        "Execute a célula abaixo."
      ]
    },
    {
      "cell_type": "code",
      "execution_count": 4,
      "metadata": {
        "colab": {
          "base_uri": "https://localhost:8080/"
        },
        "id": "Ib2Ihepx0N6h",
        "outputId": "3ab015df-4f2e-4602-f32b-1a262bd48756"
      },
      "outputs": [
        {
          "output_type": "stream",
          "name": "stdout",
          "text": [
            "Downloading data from https://storage.googleapis.com/tensorflow/tf-keras-datasets/boston_housing.npz\n",
            "57026/57026 [==============================] - 0s 0us/step\n"
          ]
        }
      ],
      "source": [
        "data = tf.keras.datasets.boston_housing\n",
        "\n",
        "(x_train, y_train), (x_test, y_test) = data.load_data()"
      ]
    },
    {
      "cell_type": "markdown",
      "metadata": {
        "id": "0-H0LwB_7von"
      },
      "source": [
        "### Pradronize os dados\n",
        "\n",
        "Execute a célula abaixo."
      ]
    },
    {
      "cell_type": "code",
      "execution_count": 5,
      "metadata": {
        "id": "uZrGVMsH0X3F"
      },
      "outputs": [],
      "source": [
        "# Instanciamos um objeto da classe StandardScaler.\n",
        "scaler = StandardScaler()\n",
        "\n",
        "# Calcula-se os parâmetros de padronização usando o conjunto de treinamento.\n",
        "scaler.fit(x_train)\n",
        "\n",
        "# Usamos o método `transform` para padronizar os atributos de treinamento e teste.\n",
        "x_train_std = scaler.transform(x_train)\n",
        "x_test_std = scaler.transform(x_test)"
      ]
    },
    {
      "cell_type": "markdown",
      "metadata": {
        "id": "RUNbBC_FgcWZ"
      },
      "source": [
        "## Encontre os melhores hiperparâmetros"
      ]
    },
    {
      "cell_type": "markdown",
      "metadata": {
        "id": "xFpK--7yynT1"
      },
      "source": [
        "### Defina a função de criação do modelo\n",
        "\n",
        "\n",
        "Modifique a função abaixo de forma que a busca aleatória teste combinações aleatórias dos seguintes hiperparâmetros e valores:\n",
        "\n",
        "1.   Número de camadas ocultas (`layers`): 1, 2 e 3.\n",
        "2.   Número de neurônios nas camadas ocultas (`units`): 5, 10, 15, 20 e 25.\n",
        "3.   Passo de aprendizagem do otmizador (`learning_rate`): 0.0003, 0.001 e 0.003.\n",
        "4.   Otimizador (`optimizer`): 'sgd' e 'adam'.\n",
        "5.   Função de ativação das camadas ocultas (`activation`): 'relu' e 'sigmoid'.\n",
        "\n",
        "**Observação**\n",
        "\n",
        "+ A busca deve demorar vários minutos, tenha paciência.\n"
      ]
    },
    {
      "cell_type": "code",
      "execution_count": 32,
      "metadata": {
        "id": "qbvjlmNdhBn6"
      },
      "outputs": [],
      "source": [
        "import tensorflow as tf\n",
        "from kerastuner.tuners import RandomSearch\n",
        "import keras_tuner\n",
        "# Defina a função de construção do modelo\n",
        "def build_model(hp):\n",
        "    model = tf.keras.Sequential()\n",
        "    model.add(tf.keras.layers.Input(13))\n",
        "\n",
        "    # Número de camadas ocultas aleatoriamente (1, 2 ou 3).\n",
        "    n_layers = hp.Choice(\"n_layers\",[1,2,3])\n",
        "\n",
        "    # Opções de número de neurônios para testar.\n",
        "    num_neurons_options = [5, 10, 15, 20, 25]\n",
        "\n",
        "    # De acordo com a quantidade aleatória de camadas, escolhendo a quantidade de neurônios para cada e função de ativação\n",
        "    if(n_layers==1):\n",
        "          # Selecionando aleatóriamente o número de neurônios na camada oculta\n",
        "          num_neurons_camada1_apenas = hp.Choice(f'units', num_neurons_options)\n",
        "          # Funç~]ao de ativação escolhida aleatóriamente para camada oculta\n",
        "          activation = hp.Choice(f'activation', [\"relu\", \"sigmoid\"])\n",
        "          # Escolhendo o otimizador de forma aleatória\n",
        "          optimizer = hp.Choice(\"optimizer\", [\"sgd\", \"adam\"])\n",
        "          # Adicionando esta camada densa com este tipo de configuração, x neuronios com y função de ativação\n",
        "          model.add(tf.keras.layers.Dense(units=num_neurons_camada1_apenas, activation=activation))\n",
        "    elif(n_layers==2):\n",
        "          # Selecionando aleatóriamente o número de neurônios na camada oculta\n",
        "          num_neurons_camada1_apenas = hp.Choice(f'units', num_neurons_options)\n",
        "          # Funç~]ao de ativação escolhida aleatóriamente para camada oculta\n",
        "          activation = hp.Choice(f'activation', [\"relu\", \"sigmoid\"])\n",
        "          # Adicionando esta camada densa com este tipo de configuração, x neuronios com y função de ativação\n",
        "          model.add(tf.keras.layers.Dense(units=num_neurons_camada1_apenas, activation=activation))\n",
        "          # Selecionando aleatóriamente o número de neurônios na camada oculta\n",
        "          num_neurons_camada2_apenas = hp.Choice(f'units', num_neurons_options)\n",
        "          # Funç~]ao de ativação escolhida aleatóriamente para camada oculta\n",
        "          activation_cam2 = hp.Choice(f'activation', [\"relu\", \"sigmoid\"])\n",
        "          # Escolhendo o otimizador de forma aleatória\n",
        "          optimizer = hp.Choice(\"optimizer\", [\"sgd\", \"adam\"])\n",
        "          # Adicionando esta camada densa com este tipo de configuração, x neuronios com y função de ativação\n",
        "          model.add(tf.keras.layers.Dense(units=num_neurons_camada2_apenas, activation=activation_cam2))\n",
        "    elif(n_layers==3):\n",
        "          # Selecionando aleatóriamente o número de neurônios na camada oculta\n",
        "          num_neurons_camada1_apenas = hp.Choice(f'units', num_neurons_options)\n",
        "          # Funç~]ao de ativação escolhida aleatóriamente para camada oculta\n",
        "          activation = hp.Choice(f'activation', [\"relu\", \"sigmoid\"])\n",
        "          # Adicionando esta camada densa com este tipo de configuração, x neuronios com y função de ativação\n",
        "          model.add(tf.keras.layers.Dense(units=num_neurons_camada1_apenas, activation=activation))\n",
        "          # Selecionando aleatóriamente o número de neurônios na camada oculta\n",
        "          num_neurons_camada2_apenas = hp.Choice(f'units', num_neurons_options)\n",
        "          # Funç~]ao de ativação escolhida aleatóriamente para camada oculta\n",
        "          activation_cam2 = hp.Choice(f'activation', [\"relu\", \"sigmoid\"])\n",
        "          # Adicionando esta camada densa com este tipo de configuração, x neuronios com y função de ativação\n",
        "          model.add(tf.keras.layers.Dense(units=num_neurons_camada2_apenas, activation=activation_cam2))\n",
        "          # Selecionando aleatóriamente o número de neurônios na camada oculta\n",
        "          num_neurons_camada3_apenas = hp.Choice(f'units', num_neurons_options)\n",
        "          # Funç~]ao de ativação escolhida aleatóriamente para camada oculta\n",
        "          activation_cam3 = hp.Choice(f'activation', [\"relu\", \"softmax\"])\n",
        "          # Escolhendo o otimizador de forma aleatória\n",
        "          optimizer = hp.Choice(\"optimizer\", [\"sgd\", \"adam\"])\n",
        "          # Adicionando esta camada densa com este tipo de configuração, x neuronios com y função de ativação\n",
        "          model.add(tf.keras.layers.Dense(units=num_neurons_camada3_apenas, activation=activation_cam3))\n",
        "    # Escolhendo o passo de aprendizado de forma aleatória\n",
        "    learning_rate = hp.Choice(\"learning_rate\", [0.0003, 0.001, 0.003])\n",
        "    # Adicionando a camada de saída.\n",
        "    model.add(tf.keras.layers.Dense(1))\n",
        "\n",
        "    model.compile(optimizer=optimizer, loss='mse', metrics=['mae'])\n",
        "\n",
        "    return model\n"
      ]
    },
    {
      "cell_type": "markdown",
      "metadata": {
        "id": "lsNpzZpeh2Hi"
      },
      "source": [
        "### Instancie o objeto de busca aleatória\n",
        "\n",
        "Execute as células abaixo."
      ]
    },
    {
      "cell_type": "code",
      "execution_count": 7,
      "metadata": {
        "id": "zufG9sUjh1xV"
      },
      "outputs": [],
      "source": [
        "tuner = RandomSearch(\n",
        "    build_model,\n",
        "    objective='val_loss',\n",
        "    max_trials=10,  # Número de tentativas\n",
        "    directory='./untitled_project',  # Diretório para salvar os resultados\n",
        "    project_name='my_project'  # Nome do projeto\n",
        ")\n"
      ]
    },
    {
      "cell_type": "markdown",
      "metadata": {
        "id": "wN6Ci84OiFaZ"
      },
      "source": [
        "#### Faça a busca pelo melhor modelo.\n",
        "\n",
        "Execute as células abaixo."
      ]
    },
    {
      "cell_type": "code",
      "execution_count": 8,
      "metadata": {
        "colab": {
          "base_uri": "https://localhost:8080/"
        },
        "id": "WnkdoSzLiJUY",
        "outputId": "65842e59-141b-4c5a-eb48-37ec01ec1c29"
      },
      "outputs": [
        {
          "output_type": "stream",
          "name": "stdout",
          "text": [
            "Trial 10 Complete [00h 00m 31s]\n",
            "val_loss: 9.372127532958984\n",
            "\n",
            "Best val_loss So Far: 9.372127532958984\n",
            "Total elapsed time: 00h 06m 13s\n"
          ]
        }
      ],
      "source": [
        "tuner.search(\n",
        "    x_train_std, y_train,\n",
        "    epochs=500,\n",
        "    validation_data=(x_test_std, y_test)\n",
        ")"
      ]
    },
    {
      "cell_type": "markdown",
      "metadata": {
        "id": "BAW8ju2Jlk8I"
      },
      "source": [
        "Obtendo os melhores hiperparâmetros."
      ]
    },
    {
      "cell_type": "markdown",
      "metadata": {
        "id": "hl9aW5--ji1l"
      },
      "source": [
        "Imprimindo o resumo dos resultados da busca."
      ]
    },
    {
      "cell_type": "code",
      "execution_count": 25,
      "metadata": {
        "colab": {
          "base_uri": "https://localhost:8080/"
        },
        "id": "zcF6Ogb_mtYW",
        "outputId": "a4e4fb24-d227-40ac-8e73-afa315418d90"
      },
      "outputs": [
        {
          "output_type": "stream",
          "name": "stdout",
          "text": [
            "Results summary\n",
            "Results in ./untitled_project/my_project\n",
            "Showing 10 best trials\n",
            "Objective(name=\"val_loss\", direction=\"min\")\n",
            "\n",
            "Trial 09 summary\n",
            "Hyperparameters:\n",
            "n_layers: 3\n",
            "units: 10\n",
            "activation: sigmoid\n",
            "optimizer: sgd\n",
            "learning_rate: 0.0003\n",
            "Score: 9.372127532958984\n",
            "\n",
            "Trial 02 summary\n",
            "Hyperparameters:\n",
            "n_layers: 1\n",
            "units: 20\n",
            "activation: relu\n",
            "optimizer: sgd\n",
            "learning_rate: 0.003\n",
            "Score: 10.806730270385742\n",
            "\n",
            "Trial 05 summary\n",
            "Hyperparameters:\n",
            "n_layers: 2\n",
            "units: 20\n",
            "activation: relu\n",
            "optimizer: sgd\n",
            "learning_rate: 0.001\n",
            "Score: 11.932592391967773\n",
            "\n",
            "Trial 07 summary\n",
            "Hyperparameters:\n",
            "n_layers: 2\n",
            "units: 20\n",
            "activation: relu\n",
            "optimizer: adam\n",
            "learning_rate: 0.0003\n",
            "Score: 12.076844215393066\n",
            "\n",
            "Trial 03 summary\n",
            "Hyperparameters:\n",
            "n_layers: 1\n",
            "units: 15\n",
            "activation: relu\n",
            "optimizer: sgd\n",
            "learning_rate: 0.0003\n",
            "Score: 13.24790096282959\n",
            "\n",
            "Trial 08 summary\n",
            "Hyperparameters:\n",
            "n_layers: 1\n",
            "units: 20\n",
            "activation: relu\n",
            "optimizer: sgd\n",
            "learning_rate: 0.001\n",
            "Score: 15.476445198059082\n",
            "\n",
            "Trial 00 summary\n",
            "Hyperparameters:\n",
            "n_layers: 2\n",
            "units: 10\n",
            "activation: relu\n",
            "optimizer: adam\n",
            "learning_rate: 0.003\n",
            "Score: 18.48491668701172\n",
            "\n",
            "Trial 06 summary\n",
            "Hyperparameters:\n",
            "n_layers: 1\n",
            "units: 20\n",
            "activation: sigmoid\n",
            "optimizer: adam\n",
            "learning_rate: 0.0003\n",
            "Score: 18.711612701416016\n",
            "\n",
            "Trial 04 summary\n",
            "Hyperparameters:\n",
            "n_layers: 3\n",
            "units: 20\n",
            "activation: sigmoid\n",
            "optimizer: adam\n",
            "learning_rate: 0.001\n",
            "Score: 19.19402313232422\n",
            "\n",
            "Trial 01 summary\n",
            "Hyperparameters:\n",
            "n_layers: 3\n",
            "units: 15\n",
            "activation: sigmoid\n",
            "optimizer: adam\n",
            "learning_rate: 0.001\n",
            "Score: 20.422971725463867\n"
          ]
        }
      ],
      "source": [
        "tuner.results_summary()"
      ]
    },
    {
      "cell_type": "markdown",
      "metadata": {
        "id": "e25O2H-X9rIR"
      },
      "source": [
        "## Obtenha e construa o melhor modelo\n",
        "\n",
        "Execute a célula abaixo."
      ]
    },
    {
      "cell_type": "code",
      "execution_count": 26,
      "metadata": {
        "colab": {
          "base_uri": "https://localhost:8080/"
        },
        "id": "So-OnPO89qgA",
        "outputId": "6b65585d-a4e2-4fb1-a870-91fc5cf91590"
      },
      "outputs": [
        {
          "output_type": "stream",
          "name": "stdout",
          "text": [
            "Model: \"sequential\"\n",
            "_________________________________________________________________\n",
            " Layer (type)                Output Shape              Param #   \n",
            "=================================================================\n",
            " dense (Dense)               (None, 10)                140       \n",
            "                                                                 \n",
            " dense_1 (Dense)             (None, 10)                110       \n",
            "                                                                 \n",
            " dense_2 (Dense)             (None, 10)                110       \n",
            "                                                                 \n",
            " dense_3 (Dense)             (None, 1)                 11        \n",
            "                                                                 \n",
            "=================================================================\n",
            "Total params: 371 (1.45 KB)\n",
            "Trainable params: 371 (1.45 KB)\n",
            "Non-trainable params: 0 (0.00 Byte)\n",
            "_________________________________________________________________\n"
          ]
        }
      ],
      "source": [
        "best_model = tuner.get_best_models(1)[0]\n",
        "\n",
        "best_model.build(input_shape=(13,))\n",
        "\n",
        "best_model.summary()"
      ]
    },
    {
      "cell_type": "markdown",
      "metadata": {
        "id": "JusxjdkP3A7C"
      },
      "source": [
        "## Avalie o melhor modelo nos conjuntos de treinamento e teste.\n",
        "\n",
        "Execute as células abaixo."
      ]
    },
    {
      "cell_type": "code",
      "execution_count": 27,
      "metadata": {
        "colab": {
          "base_uri": "https://localhost:8080/"
        },
        "id": "vi3sMlGZ26Mj",
        "outputId": "8543a7a8-af89-4243-8757-d7e8677d66c3"
      },
      "outputs": [
        {
          "output_type": "stream",
          "name": "stdout",
          "text": [
            "13/13 [==============================] - 0s 1ms/step - loss: 2.8011 - mae: 1.2614\n",
            "MSE no conjunto de treinamento: 2.8011\n",
            "MAE no conjunto de treinamento: 1.2614\n"
          ]
        }
      ],
      "source": [
        "train_eval = best_model.evaluate(x_train_std, y_train)\n",
        "\n",
        "print (\"MSE no conjunto de treinamento: {:.5}\".format(train_eval[0]))\n",
        "print (\"MAE no conjunto de treinamento: {:.5}\".format(train_eval[1]))"
      ]
    },
    {
      "cell_type": "code",
      "execution_count": 28,
      "metadata": {
        "colab": {
          "base_uri": "https://localhost:8080/"
        },
        "id": "9DIrm-LY2-pU",
        "outputId": "7874fdba-b18f-44f2-e4ec-3d0bf1f46eab"
      },
      "outputs": [
        {
          "output_type": "stream",
          "name": "stdout",
          "text": [
            "4/4 [==============================] - 0s 2ms/step - loss: 9.3721 - mae: 2.2037\n",
            "MSE no conjunto de teste: 9.3721\n",
            "MAE no conjunto de teste: 2.2037\n"
          ]
        }
      ],
      "source": [
        "test_eval = best_model.evaluate(x_test_std, y_test)\n",
        "\n",
        "print (\"MSE no conjunto de teste: {:.5}\".format(test_eval[0]))\n",
        "print (\"MAE no conjunto de teste: {:.5}\".format(test_eval[1]))\n",
        "\n"
      ]
    },
    {
      "cell_type": "code",
      "source": [
        "y_hat = best_model.predict(x_test_std)\n",
        "\n",
        "print(y_hat[:5]) # obtém as predições para as 5 primeiras amostras do conjunto de teste"
      ],
      "metadata": {
        "colab": {
          "base_uri": "https://localhost:8080/"
        },
        "id": "wbJBpiQkPd5x",
        "outputId": "103d1305-cdfd-49de-f166-9c4735c8f37f"
      },
      "execution_count": 29,
      "outputs": [
        {
          "output_type": "stream",
          "name": "stdout",
          "text": [
            "4/4 [==============================] - 0s 1ms/step\n",
            "[[ 8.887034]\n",
            " [18.476282]\n",
            " [21.518188]\n",
            " [28.727821]\n",
            " [24.484373]]\n"
          ]
        }
      ]
    },
    {
      "cell_type": "code",
      "source": [
        "plt.hist(y_hat, label='Predições', color = 'b')\n",
        "plt.hist(y_test, label = 'Valores esperados', color = 'r', alpha=0.5)\n",
        "plt.xlabel('Preços em 1K dólares')\n",
        "plt.legend()\n",
        "plt.grid()\n",
        "plt.show()"
      ],
      "metadata": {
        "colab": {
          "base_uri": "https://localhost:8080/",
          "height": 450
        },
        "id": "ul_F4ndFMV_b",
        "outputId": "9df10854-61ec-4250-b949-ef2345906c55"
      },
      "execution_count": 31,
      "outputs": [
        {
          "output_type": "display_data",
          "data": {
            "text/plain": [
              "<Figure size 640x480 with 1 Axes>"
            ],
            "image/png": "[encoded data removed]"
          },
          "metadata": {}
        }
      ]
    },
    {
      "cell_type": "markdown",
      "source": [
        "# <font color='orange'> Qual o melhor conjunto de hiperparâmetros encontrado?\n",
        "\n",
        "## <font size=6px color='darkorange'> Melhor conjunto foi com as seguintes configurações:\n",
        "\n",
        "    O número ideal de camadas ocultas é igual 3.\n",
        "\n",
        "    O número ideal de neurônios nas 3 camadas ocultas é 10.\n",
        "\n",
        "    O valor ideal do passo de aprendizagem é o 0.003.\n",
        "\n",
        "    O otimizador ideal é sgd.\n",
        "\n",
        "    A função de ativação ideal é a sigmoid.\n",
        "\n",
        "O número ideal de camadas ocultas é 2.\n",
        "O número ideal de neurônios na camada oculta # 1 é 25.\n",
        "O número ideal de neurônios na camada oculta # 2 é 25.\n",
        "O valor ideal do passo de aprendizagem é o 0.0003.\n",
        "O otimizador ideal é sgd.\n",
        "A função de ativação ideal é a relu.\n",
        "\n",
        "\n",
        "  ## Tentativa 5\n",
        "  ### **index dos valores hyperparamétricos:**\n",
        "\n",
        "<font size=6px>\n",
        "      \n",
        "      - número de camadas: 3\n",
        "\n",
        "      - activation: sigmoid\n",
        "\n",
        "      - learning_rate: 0.003\n",
        "\n",
        "      - optimizer: sgd\n",
        "\n",
        "      - camada oculta: 10 neurônios/camada\n",
        "   \n",
        "\n",
        "    Menor score possível:\n",
        "      - Score: 9.372127532958984\n",
        "\n",
        "# <font color='orange'> Esse resultado é melhor do que aquele que encontramos em sala de aula?\n",
        "\n",
        "## Sim na aula obtivemos aproximadamente um score de 18 a 17 aproximadamente aqui obtive 9 aproximadamente para o valor de score, e o que tínha escrito aqui tinha um score de 12 aproximadamente, consegui algo menor ainda sobre! Veja a figura da predição e do que era esperado acima, com histograma.\n"
      ],
      "metadata": {
        "id": "RmVujSdwQwnK"
      }
    },
    {
      "cell_type": "code",
      "source": [],
      "metadata": {
        "id": "y_NLoWAdAJYn"
      },
      "execution_count": 15,
      "outputs": []
    }
  ],
  "metadata": {
    "colab": {
      "provenance": [],
      "gpuType": "T4"
    },
    "kernelspec": {
      "display_name": "Python 3",
      "name": "python3"
    },
    "language_info": {
      "codemirror_mode": {
        "name": "ipython",
        "version": 3
      },
      "file_extension": ".py",
      "mimetype": "text/x-python",
      "name": "python",
      "nbconvert_exporter": "python",
      "pygments_lexer": "ipython3",
      "version": "3.10.9"
    },
    "accelerator": "GPU"
  },
  "nbformat": 4,
  "nbformat_minor": 0
}