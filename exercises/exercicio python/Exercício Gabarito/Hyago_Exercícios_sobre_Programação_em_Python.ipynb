{
  "cells": [
    {
      "cell_type": "markdown",
      "id": "b271b054",
      "metadata": {
        "id": "b271b054"
      },
      "source": [
        "# Exercícios sobre Programação em Python\n",
        "\n",
        "### Instruções\n",
        "\n",
        "1. Para cada um dos exercícios a seguir, faça o seguinte:\n",
        "    * Sempre que possível, adicione comentários ao seu código. Os comentários servem para documentar o código.\n",
        "    * Use **docstrings** explicando sucintamente o que cada função implementada faz.\n",
        "        + **docstrings** são os comentários de múltiplas linhas que aparecem **logo após** o cabeçalho da função.\n",
        "    * Escolha nomes autoexplicativos para suas funções e variáveis.\n",
        "2. Quando você terminar os exercícios, vá ao menu do Colab e selecione a opção para fazer download do notebook.\n",
        "    * Os notebooks tem extensão .ipynb.\n",
        "    * Este deve ser o arquivo que você irá entregar.\n",
        "    * No Colab vá até a opção **File** -> **Download .ipynb**.\n",
        "3. Após o download do notebook, vá até a aba de tarefas do MS Teams, localize a tarefa referente a este exercício e faça o upload do seu notebook. Veja que há uma opção para anexar arquivos à tarefa.\n",
        "4. Não se esqueça de colocar seu **nome** e **matrícula** na célula de texto abaixo."
      ]
    },
    {
      "cell_type": "markdown",
      "id": "3056166f",
      "metadata": {
        "id": "3056166f"
      },
      "source": [
        "**Nome**: Hyago Vieira Lemes Barbosa Silva\n",
        "\n",
        "**Matrícula**: 922"
      ]
    },
    {
      "cell_type": "markdown",
      "id": "5c480196",
      "metadata": {
        "id": "5c480196"
      },
      "source": [
        "## Exercícios"
      ]
    },
    {
      "cell_type": "markdown",
      "id": "ca7dd4fd",
      "metadata": {
        "id": "ca7dd4fd"
      },
      "source": [
        "#### 1) Exercício sobre strings.\n",
        "\n",
        "Implemente uma função chamada `removerCaractere` que remove o enésimo caractere  de uma string passada como entrada para a função e retorna a string resultante. A função deve receber como parâmetros de entrada uma string e o índice do caractere a ser removido.\n",
        "\n",
        "**Exemplo**\n",
        "\n",
        "```python\n",
        "print(removerCaractere('casa', 2))\n",
        "caa\n",
        "```\n",
        "\n",
        "**DICA**:\n",
        "* Uma forma de resolver o exercício é criar 2 substrings (ou seja, fatias) e ao final concatená-las.\n",
        "* Lembre-se que você pode usar a função `len()` para acessar o último caractere de uma string."
      ]
    },
    {
      "cell_type": "code",
      "execution_count": null,
      "id": "5821d85a",
      "metadata": {
        "colab": {
          "base_uri": "https://localhost:8080/",
          "height": 35
        },
        "id": "5821d85a",
        "outputId": "8e03926a-297e-4166-d721-963f747fd053"
      },
      "outputs": [
        {
          "output_type": "execute_result",
          "data": {
            "text/plain": [
              "'cas'"
            ],
            "application/vnd.google.colaboratory.intrinsic+json": {
              "type": "string"
            }
          },
          "metadata": {},
          "execution_count": 45
        }
      ],
      "source": [
        "# Escreva o código do exercício aqui.\n",
        "\"\"\"\n",
        "author@ Hyago\n",
        "\n",
        "esta função remove um caracter ou mais dependendo do valor que coloque, (caracter,num)\n",
        "\n",
        "caracter = caracter que deseja remover ou nao algo\n",
        "num = valor que corresponde o índice onde removerá o caracter escolhido, 0,1,2,3 ...\n",
        "\n",
        "\"\"\"\n",
        "def removerCaractere(entrada,num):\n",
        "  # Verifica se o índice num é válido não negativo e pelo menos menor que o tamanho total\n",
        "  if 0 <= num and num < len(entrada):\n",
        "   # Remove o caractere do índice especificado concatenando 0 antes do índice e após caso tenha algo\n",
        "   saida = entrada[:num] + entrada[num + 1:]\n",
        "   # retornando a string nova\n",
        "   return saida\n",
        "  else:\n",
        "   # Se o índice não for válido, retorna None\n",
        "   return ''\n",
        "\n",
        "removerCaractere('casa',3)"
      ]
    },
    {
      "cell_type": "markdown",
      "id": "ab322f56",
      "metadata": {
        "id": "ab322f56"
      },
      "source": [
        "Teste sua função com o seguinte código."
      ]
    },
    {
      "cell_type": "code",
      "execution_count": null,
      "id": "275dc7d7",
      "metadata": {
        "colab": {
          "base_uri": "https://localhost:8080/"
        },
        "id": "275dc7d7",
        "outputId": "3f0a929e-07d8-44a1-bd5d-a559c18fbc83"
      },
      "outputs": [
        {
          "output_type": "stream",
          "name": "stdout",
          "text": [
            "Resultado: ython  - Valor correto? True\n",
            "Resultado: Pyton  - Valor correto? True\n",
            "Resultado: Pytho  - Valor correto? True\n"
          ]
        }
      ],
      "source": [
        "print('Resultado:', removerCaractere('Python', 0), ' - Valor correto?', removerCaractere('Python', 0)=='ython')\n",
        "print('Resultado:', removerCaractere('Python', 3), ' - Valor correto?', removerCaractere('Python', 3)=='Pyton')\n",
        "print('Resultado:', removerCaractere('Python', 5), ' - Valor correto?', removerCaractere('Python', 5)=='Pytho')"
      ]
    },
    {
      "cell_type": "markdown",
      "id": "d20a6088",
      "metadata": {
        "id": "d20a6088"
      },
      "source": [
        "#### 2)  Exercício sobre operadores aritméticos.\n",
        "\n",
        "Implemente uma função chamada `volumeDaEsfera` que recebe o **raio de uma esfera** e **retorna seu volume**. O volume de uma esfera é calculado através da equação:\n",
        "\n",
        "$$V = \\frac{4}{3} \\pi r^3,$$ onde $r$ é o raio da esfera.\n",
        "\n",
        "**OBS.1**: Use o valor $3.14$ como sendo o valor de $\\pi$.\n",
        "\n",
        "**OBS.2**: Não se esqueça de adicionar a **docstring** explicando o que sua função faz."
      ]
    },
    {
      "cell_type": "code",
      "execution_count": null,
      "id": "99f2c7ab",
      "metadata": {
        "colab": {
          "base_uri": "https://localhost:8080/"
        },
        "id": "99f2c7ab",
        "outputId": "2f8dda02-9511-4f6a-e0a3-8bcabb82d6ed"
      },
      "outputs": [
        {
          "output_type": "execute_result",
          "data": {
            "text/plain": [
              "4.1866666666666665"
            ]
          },
          "metadata": {},
          "execution_count": 46
        }
      ],
      "source": [
        "# Escreva o código do exercício aqui.\n",
        "\"\"\"\n",
        "author@ Hyago\n",
        "\n",
        "esta função calcula volume da esfera com o raio dela e retorna o volume\n",
        "\n",
        "\"\"\"\n",
        "def volumeDaEsfera(raio):\n",
        "  # Calculo direto do volume\n",
        "  volume = (4/3)*3.14*(raio**3)\n",
        "  # Retorno do Volume\n",
        "  return volume\n",
        "\n",
        "volumeDaEsfera(1)"
      ]
    },
    {
      "cell_type": "markdown",
      "id": "d8137038",
      "metadata": {
        "id": "d8137038"
      },
      "source": [
        "Teste sua função com os seguintes exemplos."
      ]
    },
    {
      "cell_type": "code",
      "execution_count": null,
      "id": "37d697d2",
      "metadata": {
        "colab": {
          "base_uri": "https://localhost:8080/"
        },
        "id": "37d697d2",
        "outputId": "dea2bc91-5fbf-49b7-cbf5-fc82860866e3"
      },
      "outputs": [
        {
          "output_type": "stream",
          "name": "stdout",
          "text": [
            "Resultado: 4.1866666666666665  - Valor correto? True\n",
            "Resultado: 33.49333333333333  - Valor correto? True\n"
          ]
        }
      ],
      "source": [
        "print('Resultado:', volumeDaEsfera(1), ' - Valor correto?', volumeDaEsfera(1)==4.1866666666666665)\n",
        "print('Resultado:', volumeDaEsfera(2), ' - Valor correto?', volumeDaEsfera(2)==33.49333333333333)"
      ]
    },
    {
      "cell_type": "markdown",
      "id": "87a0c42f",
      "metadata": {
        "id": "87a0c42f"
      },
      "source": [
        "#### 3)  Exercício sobre laços de repetição.\n",
        "\n",
        "Implemente uma função chamada `exponenciação` que recebe 2 parâmetros de entrada, `base` e `expoente`, que calcule e imprima o primeiro número, `base`, elevado ao segundo número, `expoente`, ou seja, $base^{expoente}$.\n",
        "\n",
        "**OBS**.: Não utilize nenhuma função de potênciação já implementada, utilize apenas laços de repetição.\n",
        "\n",
        "**DICAS**\n",
        "\n",
        "+ Lembre-se que $2^3$ pode ser reescrito como $1*2*2*2$, o que pode ser facilmente implementado com um laço de repetição."
      ]
    },
    {
      "cell_type": "code",
      "execution_count": null,
      "id": "8d5a68fa",
      "metadata": {
        "colab": {
          "base_uri": "https://localhost:8080/"
        },
        "id": "8d5a68fa",
        "outputId": "3486be7a-3cde-448d-cbc5-97b86e0ee68c"
      },
      "outputs": [
        {
          "output_type": "execute_result",
          "data": {
            "text/plain": [
              "0.03125"
            ]
          },
          "metadata": {},
          "execution_count": 2
        }
      ],
      "source": [
        "#Escreva o código do exercício aqui.\n",
        "\"\"\"\n",
        "author@ Hyago\n",
        "\n",
        "esta função calcula expoente positivo e negativo, de acordo com a entrada da base e do expoente,\n",
        "caso expoente seja zero retorna direto 1\n",
        "caso seja positivo calcula verificando um loop enquanto o expoente não for decrescido a 0 uma sequência valor*base\n",
        "caso seja negativo calcula verificando um loop enquanto o expoente não for acrescido a 0 uma sequencia valor/1*1/base\n",
        "\n",
        "\"\"\"\n",
        "def exponenciação(base,expoente):\n",
        "  #expoente 0 retorna 1 direto\n",
        "  if expoente == 0:\n",
        "    return 1\n",
        "  #caso o expoente seja negativo < 0\n",
        "  elif expoente<0:\n",
        "    #inicio com 1 para adicionar outros valores\n",
        "    valor = 1\n",
        "    #adicionando para não haver loop infinito e para não entrar mais uma vez no while\n",
        "    expoente+=1\n",
        "    while(expoente<=0):\n",
        "      #calculando agora caso expoente seja negativo basicamente 1/valor base multiplaca sequencial\n",
        "      valor = valor/1*1/base\n",
        "      expoente+=1\n",
        "    return valor\n",
        "  #caso contrário e seja expoente positivo > 0\n",
        "  else:\n",
        "    #controle para adicionar outros valores\n",
        "    valor = 1\n",
        "    #expoente sendo decrescido para não haver loop infinito e para não entrar mais uma vez ainda no while\n",
        "    expoente-=1\n",
        "    while(expoente>=0):\n",
        "      #valor normal sendo multiplicado sequencialmente\n",
        "      valor = valor*base\n",
        "      expoente-=1\n",
        "    return valor\n",
        "\n",
        "exponenciação(2,-5)"
      ]
    },
    {
      "cell_type": "markdown",
      "id": "ab1d4e02",
      "metadata": {
        "id": "ab1d4e02"
      },
      "source": [
        "Teste a função com os seguintes exemplos."
      ]
    },
    {
      "cell_type": "code",
      "execution_count": null,
      "id": "14659f33",
      "metadata": {
        "colab": {
          "base_uri": "https://localhost:8080/"
        },
        "id": "14659f33",
        "outputId": "f47c1365-5f7c-4f64-e739-331091015255"
      },
      "outputs": [
        {
          "output_type": "stream",
          "name": "stdout",
          "text": [
            "Retorno: 1  - Valor correto? True\n",
            "Retorno: 2  - Valor correto? True\n",
            "Retorno: 4  - Valor correto? True\n",
            "Retorno: 8  - Valor correto? True\n",
            "Retorno: 16  - Valor correto? True\n"
          ]
        }
      ],
      "source": [
        "print('Retorno:', exponenciação(2, 0), ' - Valor correto?', exponenciação(2, 0)==1)\n",
        "print('Retorno:', exponenciação(2, 1), ' - Valor correto?', exponenciação(2, 1)==2)\n",
        "print('Retorno:', exponenciação(2, 2), ' - Valor correto?', exponenciação(2, 2)==4)\n",
        "print('Retorno:', exponenciação(2, 3), ' - Valor correto?', exponenciação(2, 3)==8)\n",
        "print('Retorno:', exponenciação(2, 4), ' - Valor correto?', exponenciação(2, 4)==16)"
      ]
    },
    {
      "cell_type": "markdown",
      "id": "45c0dee0",
      "metadata": {
        "id": "45c0dee0"
      },
      "source": [
        "#### 4) Exercício sobre laços de repetição.\n",
        "\n",
        "A série de Fibonacci é gerada através da seguinte equação $F_n = F_{n-1} + F_{n-2}$, onde os 2 primeiros termos são iguais a $F_{0} = 0$ e $F_{1} = 1$, respectivamente. Todos os outros termos são obtidos somando-se os dois termos anteriores. Os primeiros valores da série são: 0, 1, 1, 2, 3, 5, 8, 13, 21, 34, 55, 89, 144, 233, 377, 610, 987, 1597, 2584, e assim por diante. Desta forma, escreva um programa que gere e imprima a série de Fibonacci até que o valor gerado seja maior que 100000."
      ]
    },
    {
      "cell_type": "code",
      "execution_count": null,
      "id": "8b4e245b",
      "metadata": {
        "colab": {
          "base_uri": "https://localhost:8080/"
        },
        "id": "8b4e245b",
        "outputId": "544009e3-63af-424b-cfb6-a46158b05f6c"
      },
      "outputs": [
        {
          "output_type": "stream",
          "name": "stdout",
          "text": [
            "1\n",
            "2\n",
            "3\n",
            "5\n",
            "8\n",
            "13\n",
            "21\n",
            "34\n",
            "55\n",
            "89\n",
            "144\n",
            "233\n",
            "377\n",
            "610\n",
            "987\n",
            "1597\n",
            "2584\n",
            "4181\n",
            "6765\n",
            "10946\n",
            "17711\n",
            "28657\n",
            "46368\n",
            "75025\n",
            "121393\n",
            "\n",
            "valor maior que 100000 que foi gerado é este acima na sequência 121393\n"
          ]
        }
      ],
      "source": [
        "#Escreva o código do exercício aqui.\n",
        "\"\"\"\n",
        "author@ Hyago\n",
        "\n",
        "esta função calcula fibonacci direto em loop infinito até o break ser executado antes disso printando o valor maior que 100 k\n",
        "sendo o valor ainda printado pois possuimos ele anteriormente e por fim, após o loop\n",
        "\n",
        "\"\"\"\n",
        "def fibonacci():\n",
        "    #Inicialização dos primeiros dois termos da série\n",
        "    fib_n2 = 0\n",
        "    fib_n1 = 1\n",
        "\n",
        "    #Loop para calcular e imprimir até o break com valor chegue em 100000 com os próximos termos da série\n",
        "    while True:\n",
        "        #fazendo somatório pela fórmula\n",
        "        fib_n = fib_n1 + fib_n2\n",
        "        if fib_n > 100000:\n",
        "            print(fib_n)\n",
        "            print('\\nvalor maior que 100000 que foi gerado é este acima na sequência', fib_n)\n",
        "            break\n",
        "        print(fib_n)\n",
        "        #Atualização dos valores para cálculo do próximo número\n",
        "        fib_n2 = fib_n1\n",
        "        fib_n1 = fib_n\n",
        "\n",
        "#Função para gerar a série de Fibonacci\n",
        "fibonacci()\n"
      ]
    },
    {
      "cell_type": "markdown",
      "id": "ff63dc0e",
      "metadata": {
        "id": "ff63dc0e"
      },
      "source": [
        "#### 5) Exercício sobre controle de fluxo e operadores de associação.\n",
        "\n",
        "Implemente uma função chamada `éVogal` que recebe uma letra como parâmetro de entrada e verifique se essa letra é uma vogal ou consoante. A função deve retornar `True` se a letra for uma vogal e `False` caso contrário.\n",
        "\n",
        "**DICAS**:\n",
        "+ Use os operadores de associação (`in` ou `not in`) para verificar se a letra digitada está presente em uma lista de vogais.\n",
        "+ O exemplo abaixo cria uma lista com 3 consoantes.\n",
        "```python\n",
        "lista = ['B', 'c', 'D']\n",
        "```\n",
        "+ Você pode usar o método `lower()` da classe `str`, ou seja, da classe string, para transformar todas as letras em letras minúsculas e não se preocupar se a letra passada como parâmetro de entrada é maiúscula ou minúscula."
      ]
    },
    {
      "cell_type": "code",
      "execution_count": null,
      "id": "c57b3fe9",
      "metadata": {
        "id": "c57b3fe9",
        "colab": {
          "base_uri": "https://localhost:8080/"
        },
        "outputId": "a7c5fb3e-ba73-429d-f0d6-8a70a071665d"
      },
      "outputs": [
        {
          "output_type": "execute_result",
          "data": {
            "text/plain": [
              "False"
            ]
          },
          "metadata": {},
          "execution_count": 29
        }
      ],
      "source": [
        "# Escreva o código do exercício aqui.\n",
        "\"\"\"\n",
        "author@ Hyago\n",
        "\n",
        "esta função verifica se é vogal ou nao de acordo com uma lista que será percorrida e retorna TRUE ou FALSE caso encontrada\n",
        "\n",
        "\"\"\"\n",
        "def éVogal(caracter):\n",
        "  #colocando todos caracteres em minusculo\n",
        "  caracter_min = caracter.lower()\n",
        "  #lista de vogais para comparar\n",
        "  vogais = ['a' ,'e' , 'i' ,'o' ,'u']\n",
        "  #verificando se o caracter digitado está dentro de vogais se sim TRUE senão FALSE\n",
        "  if caracter_min in vogais:\n",
        "    #se conter este caracter dentro da lista de vogais retorna TRUE\n",
        "    return True\n",
        "  else:\n",
        "    #senao retorna FALSE\n",
        "    return False\n",
        "\n",
        "éVogal('s')"
      ]
    },
    {
      "cell_type": "markdown",
      "source": [
        "Teste a função com os seguintes exemplos."
      ],
      "metadata": {
        "id": "NMpUpjqo7T_u"
      },
      "id": "NMpUpjqo7T_u"
    },
    {
      "cell_type": "code",
      "execution_count": null,
      "id": "c0270abf",
      "metadata": {
        "id": "c0270abf",
        "colab": {
          "base_uri": "https://localhost:8080/"
        },
        "outputId": "d5d0672c-9ed6-40c3-a5da-59f7197c0dec"
      },
      "outputs": [
        {
          "output_type": "stream",
          "name": "stdout",
          "text": [
            "Retorno: False  - Valor correto? True\n",
            "Retorno: True  - Valor correto? True\n"
          ]
        }
      ],
      "source": [
        "print('Retorno:', éVogal('v'), ' - Valor correto?', éVogal('v')==False)\n",
        "print('Retorno:', éVogal('A'), ' - Valor correto?', éVogal('A')==True)"
      ]
    },
    {
      "cell_type": "markdown",
      "id": "5b9ab043",
      "metadata": {
        "id": "5b9ab043"
      },
      "source": [
        "#### 6) Exercício sobre controle de fluxo, operadores lógicos e de comparação.\n",
        "\n",
        "Implemente uma função chamada `calcularMédia` que receba duas notas parciais, `nota1` e `nota2`, recebidas por um aluno ao longo do semestre. A função deve **calcular** a média alcançada pelo aluno e **imprimir** na tela:\n",
        "+ as 2 notas recebidas pelo aluno;\n",
        "+ a média das 2 notas;\n",
        "+ o conceito correspondente;\n",
        "+ e a mensagem “APROVADO” se o conceito for A, B ou C ou “REPROVADO” se o conceito for D ou E.\n",
        "\n",
        "A atribuição de conceitos obedece à tabela abaixo:\n",
        "\n",
        "| Média | Conceito |\n",
        "|:-----------------------:|:--------:|\n",
        "|     9.0 <= média <= 10.0    |     A    |\n",
        "|     7.5 <= média < 9.0     |     B    |\n",
        "|     6.0 <= média < 7.5     |     C    |\n",
        "|     4.0 <= média < 6.0     |     D    |\n",
        "|    0.0 <= média < 4.0    |     E    |\n",
        "\n",
        "\n",
        "**DICAS**:\n",
        "\n",
        "+ **Sua função não irá retornar nenhum valor.** Ela irá apenas imprimir as informações definidas acima.\n",
        "+ No exemplo abaixo, a função `print` é usada para imprimir todas as notas, média, conceito e resultado final. Onde `%f` formata um valor para que seja impresso como um float e `%s` para que o valor seja considerado uma string.\n",
        "```python\n",
        "print('Nota 1: %f - Nota 2: %f - Média: %f - Conceito: %s - Resultado: %s' % (nota1, nota2, media, conceito, resultado))\n",
        "```\n",
        "+ Você pode usar a função embutida `print` e formatar a string de saída de uma forma semelhante a utilizada com a função `printf` da linguagem C. As letras após o caractere `%` indicam o tipo de formatação deve ser aplicado ao valor para que ele seja corretamente transformado em uma string e impresso na tela. Para mais informações acesse:\n",
        "https://docs.python.org/pt-br/3/library/stdtypes.html#old-string-formatting"
      ]
    },
    {
      "cell_type": "code",
      "execution_count": 1,
      "id": "79ff4239",
      "metadata": {
        "id": "79ff4239"
      },
      "outputs": [],
      "source": [
        "# Escreva o código do exercício aqui.\n",
        "\"\"\"\n",
        "author@ Hyago\n",
        "\n",
        "esta função calcula média das notas e classifica elas dos intervalos que existem A,B,C,D,E se aprovado ou nao\n",
        "\n",
        "\"\"\"\n",
        "def calcularMédia(nota1,nota2):\n",
        "  #calculando a média e associando os valores do conceito com a tabela e o resultado\n",
        "  media = (nota1+nota2)/2\n",
        "  #Aprovado para médias de 10 a 6 classificado com estes conceitos de acordo com a faixa\n",
        "  if 9.0 <= media <= 10.0:\n",
        "    conceito = 'A'\n",
        "    resultado = 'APROVADO'\n",
        "  elif 7.5 <= media < 10.0:\n",
        "    conceito = 'B'\n",
        "    resultado = 'APROVADO'\n",
        "  elif 6.0 <= media < 7.5:\n",
        "    conceito = 'C'\n",
        "    resultado = 'APROVADO'\n",
        "  #Reprovado para abaixo de 6 classificado com estes conceitos de acordo com a faixa\n",
        "  elif 4.0 <= media < 6.0:\n",
        "    conceito = 'D'\n",
        "    resultado = 'REPROVADO'\n",
        "  elif 0.0 <= media < 4.0:\n",
        "    conceito = 'E'\n",
        "    resultado = 'REPROVADO'\n",
        "  else:\n",
        "    None\n",
        "  print('Nota 1: %.2f - Nota 2: %.2f - Média: %.2f - Conceito: %s - Resultado: %s' % (nota1, nota2, media, conceito, resultado))\n",
        "\n",
        "\n",
        "\n"
      ]
    },
    {
      "cell_type": "markdown",
      "id": "225b9535",
      "metadata": {
        "id": "225b9535"
      },
      "source": [
        "Teste a função com a célula de código abaixo. As chamadas à função `calcularMédia` com o código abaixo resultam nas seguintes saídas:\n",
        "```\n",
        "Nota 1: 1.00 - Nota 2: 1.00 - Média: 1.00 - Conceito: E - Resultado: REPROVADO\n",
        "Nota 1: 5.00 - Nota 2: 5.00 - Média: 5.00 - Conceito: D - Resultado: REPROVADO\n",
        "Nota 1: 6.00 - Nota 2: 6.00 - Média: 6.00 - Conceito: C - Resultado: APROVADO\n",
        "Nota 1: 8.00 - Nota 2: 8.00 - Média: 8.00 - Conceito: B - Resultado: APROVADO\n",
        "Nota 1: 10.00 - Nota 2: 10.00 - Média: 10.00 - Conceito: A - Resultado: APROVADO\n",
        "```"
      ]
    },
    {
      "cell_type": "code",
      "execution_count": 2,
      "id": "0016c6ef",
      "metadata": {
        "id": "0016c6ef",
        "colab": {
          "base_uri": "https://localhost:8080/"
        },
        "outputId": "075c5a6c-159c-4e32-faca-725bcb24aedc"
      },
      "outputs": [
        {
          "output_type": "stream",
          "name": "stdout",
          "text": [
            "Nota 1: 1.00 - Nota 2: 1.00 - Média: 1.00 - Conceito: E - Resultado: REPROVADO\n",
            "Nota 1: 5.00 - Nota 2: 5.00 - Média: 5.00 - Conceito: D - Resultado: REPROVADO\n",
            "Nota 1: 6.00 - Nota 2: 6.00 - Média: 6.00 - Conceito: C - Resultado: APROVADO\n",
            "Nota 1: 8.00 - Nota 2: 8.00 - Média: 8.00 - Conceito: B - Resultado: APROVADO\n",
            "Nota 1: 10.00 - Nota 2: 10.00 - Média: 10.00 - Conceito: A - Resultado: APROVADO\n"
          ]
        }
      ],
      "source": [
        "calcularMédia(1, 1)\n",
        "calcularMédia(5, 5)\n",
        "calcularMédia(6, 6)\n",
        "calcularMédia(8, 8)\n",
        "calcularMédia(10, 10)"
      ]
    },
    {
      "cell_type": "markdown",
      "id": "3c716be3",
      "metadata": {
        "id": "3c716be3"
      },
      "source": [
        "#### 7) Exercício sobre funções.\n",
        "\n",
        "Cálculo do IMC com passagem de parâmetros através de pares chave-valor\n",
        "\n",
        "Crie uma função chamada `imc` que calcule o IMC (Índice de Massa Corporal) de uma pessoa utilizando passagem de parâmetros através de pares chave e valor. A função deve receber dois parâmetros: `peso` e `altura`, ambos como pares chave-valor. O parâmetro de peso será representado pela chave `peso` e o de altura pela chave `altura`\n",
        "\n",
        "A função deve calcular o IMC usando a fórmula matemática IMC = peso / (altura * altura) e retornar o resultado."
      ]
    },
    {
      "cell_type": "code",
      "execution_count": 3,
      "id": "f74a8b4f",
      "metadata": {
        "id": "f74a8b4f"
      },
      "outputs": [],
      "source": [
        "# Implemente aqui o código da função.\n",
        "\"\"\"\n",
        "author@ Hyago\n",
        "\n",
        "esta função calcula imc com peso e altura de acordo com a fórmula\n",
        "\"\"\"\n",
        "def imc(peso,altura):\n",
        "  #calculando o imc direto e retornando\n",
        "  imc = peso/(altura**2)\n",
        "  return imc\n"
      ]
    },
    {
      "cell_type": "markdown",
      "id": "693a74a3",
      "metadata": {
        "id": "693a74a3"
      },
      "source": [
        "Teste sua função com o código abaixo. Todas as linhas abaixo devem terminar em `Teste está correto? True`."
      ]
    },
    {
      "cell_type": "code",
      "execution_count": 4,
      "id": "f9f8d004",
      "metadata": {
        "id": "f9f8d004",
        "colab": {
          "base_uri": "https://localhost:8080/"
        },
        "outputId": "88be2260-32bf-43f1-b538-f3ec328a87ba"
      },
      "outputs": [
        {
          "output_type": "stream",
          "name": "stdout",
          "text": [
            "Resultado: 25.0  - Teste está correto? True\n",
            "Resultado: 25.0  - Teste está correto? True\n"
          ]
        }
      ],
      "source": [
        "print('Resultado:', imc(peso=100, altura=2.0), ' - Teste está correto?', imc(peso=100, altura=2.0)==25.0)\n",
        "print('Resultado:', imc(altura=2.0, peso=100), ' - Teste está correto?', imc(altura=2.0, peso=100)==25.0)"
      ]
    },
    {
      "cell_type": "markdown",
      "id": "7d8dad3e",
      "metadata": {
        "id": "7d8dad3e"
      },
      "source": [
        "#### 8) Exercício sobre funções.\n",
        "\n",
        "Crie uma função chamada `calcularMédia` que aceite qualquer número de parâmetros de entrada (ou seja, que aceite um número arbitrário de parâmetros de entrada) e retorne a média aritmética simples dos valores de entrada.\n",
        "\n",
        "**Dicas**:\n",
        "\n",
        "+ Lembre-se que a função recebe do interpretador uma **tupla** com todos os parâmetros de entrada. Uma **tupla** é uma coleção de objetos que pode ser iterada com um laço de repetição `for`, por exemplo.\n",
        "```python\n",
        "# definindo uma tupla.\n",
        "tupla = (0, 1, 2, 3)\n",
        "# iterando através dos valores da tupla com um laço for.\n",
        "for valor in tupla:\n",
        "    print(valor)\n",
        "0\n",
        "1\n",
        "2\n",
        "3\n",
        "```\n",
        "+ Para calcular a média, você pode, se preferir, usar a **função** embutida `sum` para somar todos os valores da tupla passada para a função e usar a função embutida `len` para obter a quantidade de elementos na tupla. Veja o exemplo abaixo:\n",
        "```python\n",
        "tupla = (1, 1, 1, 1)\n",
        "média = sum(tupla)/len(tupla)\n",
        "print(média)\n",
        "1\n",
        "```"
      ]
    },
    {
      "cell_type": "code",
      "execution_count": null,
      "id": "5ea30342",
      "metadata": {
        "id": "5ea30342",
        "colab": {
          "base_uri": "https://localhost:8080/"
        },
        "outputId": "b81d8d09-11a8-4ff0-a19e-2ede8e1ee19d"
      },
      "outputs": [
        {
          "output_type": "execute_result",
          "data": {
            "text/plain": [
              "2.5"
            ]
          },
          "metadata": {},
          "execution_count": 21
        }
      ],
      "source": [
        "# Implemente aqui o código da função.\n",
        "\"\"\"\n",
        "author@ Hyago\n",
        "\n",
        "esta função calcula a média dos valores que podem ser adicionados como argumentos em tuplas\n",
        "\n",
        "\"\"\"\n",
        "def calcularMédia(*tupla):\n",
        "  #calculando a média e retornando\n",
        "  media = sum(tupla)/len(tupla)\n",
        "  return media\n",
        "\n",
        "calcularMédia(1, 2, 3, 4)"
      ]
    },
    {
      "cell_type": "markdown",
      "source": [
        "Teste suas funções com o código abaixo. Todas as linhas abaixo devem terminar em `Teste está correto? True`."
      ],
      "metadata": {
        "id": "91CcA0UnmpWn"
      },
      "id": "91CcA0UnmpWn"
    },
    {
      "cell_type": "code",
      "execution_count": null,
      "id": "d6756655",
      "metadata": {
        "id": "d6756655",
        "colab": {
          "base_uri": "https://localhost:8080/"
        },
        "outputId": "7e87d7b7-05aa-410d-89b1-eba5d9db1c01"
      },
      "outputs": [
        {
          "output_type": "stream",
          "name": "stdout",
          "text": [
            "Resultado: 2.0  - Teste está correto? True\n",
            "Resultado: 3.0  - Teste está correto? True\n",
            "Resultado: 4.0  - Teste está correto? True\n",
            "Resultado: 2.5  - Teste está correto? True\n"
          ]
        }
      ],
      "source": [
        "print('Resultado:', calcularMédia(2), ' - Teste está correto?', calcularMédia(2)==2)\n",
        "print('Resultado:', calcularMédia(2, 4), ' - Teste está correto?', calcularMédia(2, 4)==3)\n",
        "print('Resultado:', calcularMédia(2, 4, 6), ' - Teste está correto?', calcularMédia(2, 4, 6)==4)\n",
        "print('Resultado:', calcularMédia(1, 2, 3, 4), ' - Teste está correto?', calcularMédia(1, 2, 3, 4)==2.5)"
      ]
    },
    {
      "cell_type": "markdown",
      "id": "f14d09a1",
      "metadata": {
        "id": "f14d09a1"
      },
      "source": [
        "#### 9) Exercício sobre funções.\n",
        "\n",
        "Implemente uma função chamada `fatorial` que calcule o fatorial de um valor de entrada `x`.\n",
        "\n",
        "**IMPORTANTE: Utilize recursão para implementar esta função. Não use laços de repetição.**\n",
        "\n",
        "**Dica**: O fatorial de um número é calculado pela multiplicação desse número por todos os seus antecessores até chegar ao número 1. Uma exceção é o fatorial de 0, que é igual a 1.\n",
        "\n",
        "**Exemplos**:\n",
        "\n",
        "* 0! = 1\n",
        "* 1! = 1\n",
        "* 2! = 2 * 1 = 2\n",
        "* 3! = 3 * 2 * 1 = 6\n",
        "* 4! = 4 * 3 * 2 * 1 = 24"
      ]
    },
    {
      "cell_type": "code",
      "execution_count": null,
      "id": "f35c8678",
      "metadata": {
        "id": "f35c8678",
        "colab": {
          "base_uri": "https://localhost:8080/"
        },
        "outputId": "5feaae5a-2a71-43bb-a182-96ac27c561da"
      },
      "outputs": [
        {
          "output_type": "execute_result",
          "data": {
            "text/plain": [
              "24"
            ]
          },
          "metadata": {},
          "execution_count": 28
        }
      ],
      "source": [
        "# implemente o código da função aqui.\n",
        "\"\"\"\n",
        "author@ Hyago\n",
        "\n",
        "esta função calcula fatorial recursivo retornando o valor direto apenas se for de 0 com 1\n",
        "\"\"\"\n",
        "def fatorial(num):\n",
        "  if num == 0:\n",
        "    #excessão caso número seja 0 porque senão retorna 0 e estaria errado\n",
        "    return 1\n",
        "  else:\n",
        "    #fatorial de forma recursiva para qualquer outro valor\n",
        "    return num*fatorial(num-1)\n",
        "\n",
        "fatorial(4)"
      ]
    },
    {
      "cell_type": "markdown",
      "source": [
        "Teste sua função com o código abaixo. Todas as linhas abaixo devem terminar em `Teste está correto? True`."
      ],
      "metadata": {
        "id": "Z9wpZjkToT7J"
      },
      "id": "Z9wpZjkToT7J"
    },
    {
      "cell_type": "code",
      "execution_count": null,
      "id": "651a7d1d",
      "metadata": {
        "id": "651a7d1d",
        "colab": {
          "base_uri": "https://localhost:8080/"
        },
        "outputId": "91fa0b0b-7a0b-45be-c7ef-9b296e1c02c9"
      },
      "outputs": [
        {
          "output_type": "stream",
          "name": "stdout",
          "text": [
            "fatorial: 1  - resultado correto? True\n",
            "fatorial: 1  - resultado correto? True\n",
            "fatorial: 2  - resultado correto? True\n",
            "fatorial: 6  - resultado correto? True\n",
            "fatorial: 24  - resultado correto? True\n"
          ]
        }
      ],
      "source": [
        "print('fatorial:', fatorial(0), ' - resultado correto?', fatorial(0)==1)\n",
        "print('fatorial:', fatorial(1), ' - resultado correto?', fatorial(1)==1)\n",
        "print('fatorial:', fatorial(2), ' - resultado correto?', fatorial(2)==2)\n",
        "print('fatorial:', fatorial(3), ' - resultado correto?', fatorial(3)==6)\n",
        "print('fatorial:', fatorial(4), ' - resultado correto?', fatorial(4)==24)"
      ]
    },
    {
      "cell_type": "markdown",
      "id": "d0df215b",
      "metadata": {
        "id": "d0df215b"
      },
      "source": [
        "#### 10) Exercício sobre funções.\n",
        "\n",
        "Crie uma função chamada `somarValores` que aceite qualquer número de parâmetros de entrada e retorne a soma desses números.\n",
        "\n",
        "**Dica**: Lembre-se que a função recebe do interpretador uma **tupla** com todos os parâmetros de entrada. Um **tupla** é uma coleção de objetos que pode ser iterada com um laço de repetição `for`.\n",
        "\n",
        "**Exemplo**\n",
        "\n",
        "```python\n",
        "# definindo uma tupla.\n",
        "tupla = (0, 1, 2, 3)\n",
        "\n",
        "# iterando através dos valores da tupla com um laço for.\n",
        "for valor in tupla:\n",
        "    print(valor)\n",
        "0\n",
        "1\n",
        "2\n",
        "3\n",
        "```"
      ]
    },
    {
      "cell_type": "code",
      "execution_count": null,
      "id": "9bb133e0",
      "metadata": {
        "id": "9bb133e0"
      },
      "outputs": [],
      "source": [
        "# implemente o código da função aqui.\n",
        "\"\"\"\n",
        "author@ Hyago\n",
        "\n",
        "esta função soma os valores de uma tupla direto com a funcao sum do python\n",
        "\n",
        "\"\"\"\n",
        "#função recebe os valores da tupla direto com 1 ou mais argumentos como uma tupla\n",
        "def somarValores(*valores):\n",
        "  #soma direto pela função\n",
        "  return sum(valores)"
      ]
    },
    {
      "cell_type": "markdown",
      "source": [
        "Teste sua função com o código abaixo. Todas as linhas abaixo devem terminar em `Teste está correto? True`."
      ],
      "metadata": {
        "id": "2VxwNm9Ior8b"
      },
      "id": "2VxwNm9Ior8b"
    },
    {
      "cell_type": "code",
      "execution_count": null,
      "id": "1562a86a",
      "metadata": {
        "id": "1562a86a",
        "colab": {
          "base_uri": "https://localhost:8080/"
        },
        "outputId": "3c175c09-1432-498b-9efa-4efe08eb7a92"
      },
      "outputs": [
        {
          "output_type": "stream",
          "name": "stdout",
          "text": [
            "Resultado: 2  - Teste está correto? True\n",
            "Resultado: 6  - Teste está correto? True\n",
            "Resultado: 12  - Teste está correto? True\n",
            "Resultado: 10  - Teste está correto? True\n",
            "Resultado: 15  - Teste está correto? True\n"
          ]
        }
      ],
      "source": [
        "print('Resultado:', somarValores(2), ' - Teste está correto?', somarValores(2)==2)\n",
        "print('Resultado:', somarValores(2, 4), ' - Teste está correto?', somarValores(2, 4)==6)\n",
        "print('Resultado:', somarValores(2, 4, 6), ' - Teste está correto?', somarValores(2, 4, 6)==12)\n",
        "print('Resultado:', somarValores(1, 2, 3, 4), ' - Teste está correto?', somarValores(1, 2, 3, 4)==10)\n",
        "print('Resultado:', somarValores(1, 2, 3, 4, 5), ' - Teste está correto?', somarValores(1, 2, 3, 4, 5)==15)"
      ]
    },
    {
      "cell_type": "markdown",
      "id": "fe174dcf",
      "metadata": {
        "id": "fe174dcf"
      },
      "source": [
        "#### 11) Exercício sobre funções e listas.\n",
        "\n",
        "Escreva uma função chamada `temperaturaAnual` que receba 2 listas, uma com a temperatura média de cada mês do ano e outra com os meses. A função deve calcular a média anual das temperaturas, imprimir todas as temperaturas acima da média anual e em que mês elas ocorreram. A tabela abaixo apresenta os valores que devem ser usados para testar a função.\n",
        "\n",
        "|    Mês    | Média (°C) |\n",
        "|:---------:|:----------:|\n",
        "|  Janeiro  |     28     |\n",
        "| Fevereiro |     27     |\n",
        "|   Março   |     25     |\n",
        "|   Abril   |     20     |\n",
        "|    Maio   |     18     |\n",
        "|   Junho   |     15     |\n",
        "|   Julho   |     15     |\n",
        "|   Agosto  |     20     |\n",
        "|  Setembro |     20     |\n",
        "|  Outubro  |     25     |\n",
        "|  Novembro |     27     |\n",
        "|  Dezembro |     29     |\n",
        "\n",
        "**DICAS**\n",
        "\n",
        "+ A função não retorna nada, apenas imprime todas as temperaturas acima da média anual e em que mês elas ocorreram.\n",
        "+ As duas listas já estão criadas na célula de teste, portanto, não é necessário que você as crie."
      ]
    },
    {
      "cell_type": "code",
      "execution_count": null,
      "id": "ff07fc3d",
      "metadata": {
        "id": "ff07fc3d"
      },
      "outputs": [],
      "source": [
        "# Implemente o código do exercício aqui.\n",
        "\"\"\"\n",
        "author@ Hyago\n",
        "\n",
        "esta função coloca relação de cada lista conforme os índices de cada temperatura com mes daquele indice, quando for maior que a média temperatura anual em cada mes\n",
        "\n",
        "\"\"\"\n",
        "def temperaturaAnual(meses, temp):\n",
        "    #media temperatura anual\n",
        "    tpt_med_anual = sum(temp) / len(temp)\n",
        "    # percorrendo junto temperatura e os meses com funcao zip\n",
        "    for tpt, mes in zip(temp, meses):\n",
        "        #verificando a temperatura que passou do valor medio anual, e colocando o print do mes que esta percorrendo junto\n",
        "        if tpt > tpt_med_anual:\n",
        "            print('Temperatura ' + repr(tpt) + ' °C no mês de '+ repr(mes))"
      ]
    },
    {
      "cell_type": "markdown",
      "id": "d6c70ba5",
      "metadata": {
        "id": "d6c70ba5"
      },
      "source": [
        "Teste a função com o seguinte trecho de código."
      ]
    },
    {
      "cell_type": "code",
      "execution_count": null,
      "id": "45e44467",
      "metadata": {
        "id": "45e44467",
        "colab": {
          "base_uri": "https://localhost:8080/"
        },
        "outputId": "3f62d149-2ee2-497f-a882-604bdb137ca9"
      },
      "outputs": [
        {
          "output_type": "stream",
          "name": "stdout",
          "text": [
            "Temperatura 28 °C no mês de 'Janeiro'\n",
            "Temperatura 27 °C no mês de 'Fevereiro'\n",
            "Temperatura 25 °C no mês de 'Março'\n",
            "Temperatura 25 °C no mês de 'Outubro'\n",
            "Temperatura 27 °C no mês de 'Novembro'\n",
            "Temperatura 29 °C no mês de 'Dezembro'\n"
          ]
        }
      ],
      "source": [
        "meses = ['Janeiro', 'Fevereiro', 'Março', 'Abril', 'Maio', 'Junho', 'Julho', 'Agosto', 'Setembro', 'Outubro', 'Novembro', 'Dezembro']\n",
        "\n",
        "temp = [28,27,25,20,18,15,15,20,20,25,27,29]\n",
        "\n",
        "temperaturaAnual(meses, temp)"
      ]
    },
    {
      "cell_type": "markdown",
      "id": "8c9944e5",
      "metadata": {
        "id": "8c9944e5"
      },
      "source": [
        "#### 12) Exercício sobre funções e tuplas.\n",
        "\n",
        "Implemente uma função chamada `médiaDasTuplas`  que calcule o valor médio dos elementos de cada uma das tuplas em uma tupla mais externa. A função deve retornar uma lista onde cada elemento é a média de cada uma das tuplas aninhadas.\n",
        "\n",
        "**Exemplo**:\n",
        "\n",
        "```python\n",
        "tupla = ((10, 10, 12), (30, 45, 56, 45), (81, 80, 39, 32), (1, 2, 3, 4))\n",
        "ret = médiaDasTuplas(nums)\n",
        "print(ret)\n",
        "[10.666666666666666, 44.0, 58.0, 2.5]\n",
        "```\n",
        "\n",
        "**DICAS**:\n",
        "\n",
        "\n",
        "1. Cada uma das tuplas aninhadas é um elemento da tupla mais externa, ou seja, usando os índices da tupla externa, você consegue ter acesso a cada uma das tuplas aninhadas. Por exemplo\n",
        "```python\n",
        "tupla = ((10, 10, 12), (30, 45, 56, 45), (81, 80, 39, 32), (1, 2, 3, 4))\n",
        "a = tupla[0]\n",
        "print(a)\n",
        "(10, 10, 12)\n",
        "```\n",
        "2. Use as funções embutidas `sum` e `len` para calcular a média dos elementos de uma tupla. Veja o exemplo abaixo:\n",
        "\n",
        "```python\n",
        "a  = (1,2,3)\n",
        "b = sum(a)/len(a)\n",
        "print(b)\n",
        "2.0\n",
        "```"
      ]
    },
    {
      "cell_type": "code",
      "execution_count": null,
      "id": "962bcb98",
      "metadata": {
        "id": "962bcb98"
      },
      "outputs": [],
      "source": [
        "# Implemente o código do exercício aqui.\n",
        "\"\"\"\n",
        "author@ Hyago\n",
        "\n",
        "esta função faz a média das tuplas de acordo com qualquer que seja o tipo de tupla\n",
        "se esta for uma tupla de tuplas, colocando uma lista para acrescentar valores das médias encontradas\n",
        "diretamente em cada uma\n",
        "\n",
        "\"\"\"\n",
        "def médiaDasTuplas(tupla):\n",
        "  #lista das medias a retornar\n",
        "  lista_das_medias = []\n",
        "  #percorrendo cada valor da tupla inteira por tuplas menores\n",
        "  for tp in tupla:\n",
        "    #somando cada conjunto de valores da tupla e dividindo pelo seu tamanho\n",
        "    media_de_cada = sum(tp)/len(tp)\n",
        "    #colocando em fila na lista\n",
        "    lista_das_medias.append(media_de_cada)\n",
        "\n",
        "  return lista_das_medias\n"
      ]
    },
    {
      "cell_type": "markdown",
      "id": "125c06c9",
      "metadata": {
        "id": "125c06c9"
      },
      "source": [
        "Teste a função com o seguinte trecho de código."
      ]
    },
    {
      "cell_type": "code",
      "execution_count": null,
      "id": "bc6912c0",
      "metadata": {
        "id": "bc6912c0",
        "colab": {
          "base_uri": "https://localhost:8080/"
        },
        "outputId": "fb9ee886-7983-4051-fc89-46e42a5eb232"
      },
      "outputs": [
        {
          "output_type": "stream",
          "name": "stdout",
          "text": [
            "Retorno: [10.666666666666666, 44.0, 58.0, 2.5]  - Resultado correto? True\n",
            "Retorno: [-1.0, 20.0, -6.0, -1.6666666666666667]  - Resultado correto? True\n"
          ]
        }
      ],
      "source": [
        "nums = ((10, 10, 12), (30, 45, 56, 45), (81, 80, 39, 32), (1, 2, 3, 4))\n",
        "print('Retorno:', médiaDasTuplas(nums), ' - Resultado correto?', médiaDasTuplas(nums)==[10.666666666666666, 44.0, 58.0, 2.5])\n",
        "\n",
        "nums = ((1, 1, -5), (24, -12, 48), (81, -60, -39), (-10, 2, 3))\n",
        "print('Retorno:', médiaDasTuplas(nums), ' - Resultado correto?', médiaDasTuplas(nums)==[-1.0, 20.0, -6.0, -1.6666666666666667] )"
      ]
    },
    {
      "cell_type": "markdown",
      "id": "d412df06",
      "metadata": {
        "id": "d412df06"
      },
      "source": [
        "#### 13) Exercício sobre dicionários.\n",
        "\n",
        "A seguinte tabela contém a tradução de algumas palavras em inglês para a língua dos piratas, o piratês.\n",
        "\n",
        "|   Inglês   |    Piratês    |\n",
        "|:----------:|:-------------:|\n",
        "|     sir    |     matey     |\n",
        "|    hotel   |  fleabag inn  |\n",
        "|   student  |    swabbie    |\n",
        "|     boy    |     matey     |\n",
        "|    madam   |  proud beauty |\n",
        "|  professor | foul blaggart |\n",
        "| restaurant |     galley    |\n",
        "|    your    |      yer      |\n",
        "|   excuse   |      arr      |\n",
        "|  students  |    swabbies   |\n",
        "|     are    |       be      |\n",
        "|   lawyer   | foul blaggart |\n",
        "|     the    |      th’      |\n",
        "|  restroom  |      head     |\n",
        "|     my     |       me      |\n",
        "|    hello   |     avast     |\n",
        "|     is     |       be      |\n",
        "|     man    |     matey     |\n",
        "\n",
        "Implemente uma função chamada `traduzirPiratês` que receba um dicionário com as palavras em inglês e piratês (e.g., `'sir':'matey'`) e uma frase em inglês (ou seja, uma string) e retorne uma **lista** com a tradução da frase para a língua dos piratas.\n",
        "\n",
        "Veja o exemplo abaixo:\n",
        "\n",
        "```python\n",
        "frase_em_inglês = 'student is man'\n",
        "frase_pirata = traduzirPiratês(dicionário, frase_em_inglês)\n",
        "print(frase_pirata)\n",
        "['swabbie', 'be', 'matey']\n",
        "```\n",
        "\n",
        "**DICAS**:\n",
        "\n",
        "1. Você não precisa criar o dicionário, ele já está definido na célula de testes abaixo.\n",
        "2. A **chave** de cada elemento do dicionário é a palavra em inglês e o **valor** associado, a palavra em piratês.\n",
        "3. Caso uma palavra em inglês não exista no dicionário, ou seja, não tenha tradução, simplesmente a adicione à frase (ou seja, à lista) em piratês.\n",
        "4. Você vai precisar usar o método `split` da classe string com o separador sendo um espaço em branco para dividir a frase em inglês em várias palavras e assim conseguir verificar a existência de cada uma delas no dicionário. Veja o exemplo abaixo.\n",
        "```python\n",
        "frase_em_inglês = 'student is man'\n",
        "frase_separada_em_elementos = frase_em_inglês.split(' ')\n",
        "print(frase_separada_em_elementos)\n",
        "['student', 'is', 'man']\n",
        "```"
      ]
    },
    {
      "cell_type": "code",
      "execution_count": null,
      "id": "23059120",
      "metadata": {
        "id": "23059120"
      },
      "outputs": [],
      "source": [
        "# Implemente o código do exercício aqui.\n",
        "\"\"\"\n",
        "author@ Hyago\n",
        "\n",
        "esta função faz a tradução de acordo com a chave e valor de um dicionário caso existente,\n",
        "caso nao ela mantem o ingles da palavra e o restante traduz para piratess\n",
        "\n",
        "\"\"\"\n",
        "def traduzirPiratês(dicionário, texto):\n",
        "  # separando a frase em uma lista\n",
        "  frase_separada_em_elementos = texto.split(' ')\n",
        "  # lista para retorno da traducao\n",
        "  traducao = []\n",
        "  # percorrendo cada palavra desta lista\n",
        "  for palavra in frase_separada_em_elementos:\n",
        "  # se existir a chave adicione o valor para lista traducao\n",
        "    if palavra in dicionário:\n",
        "      traducao.append(dicionário[palavra])\n",
        "  # se nao existir adicione a palavra que está em ingles para lista\n",
        "    else:\n",
        "      traducao.append(palavra)\n",
        "  return traducao\n",
        "\n"
      ]
    },
    {
      "cell_type": "markdown",
      "id": "26acf523",
      "metadata": {
        "id": "26acf523"
      },
      "source": [
        "Teste a função com o seguinte trecho de código."
      ]
    },
    {
      "cell_type": "code",
      "execution_count": null,
      "id": "b64b8648",
      "metadata": {
        "id": "b64b8648",
        "colab": {
          "base_uri": "https://localhost:8080/"
        },
        "outputId": "fe5f548d-29be-4fb2-8eb0-7e3b2060d3b0"
      },
      "outputs": [
        {
          "output_type": "stream",
          "name": "stdout",
          "text": [
            "A frase em piratês é: swabbie be matey  - tradução correta? True\n",
            "A frase em piratês é: avast there swabbies  - tradução correta? True\n",
            "A frase em piratês é: th’ swabbie be a girl  - tradução correta? True\n"
          ]
        }
      ],
      "source": [
        "dicionário = {'sir':'matey','hotel':'fleabag inn','student':'swabbie','boy':'matey','madam':'proud beauty','professor':'foul blaggart','restaurant':'galley','your':'yer','excuse':'arr','students':'swabbies','are':'be','lawyer':'foul blaggart','the':'th’','restroom':'head','my':'me','hello':'avast','is':'be','man':'matey'}\n",
        "\n",
        "texto1 = 'student is man'\n",
        "frase_pirata = traduzirPiratês(dicionário, texto1)\n",
        "frase = \" \".join(frase_pirata)\n",
        "print('A frase em piratês é:', frase, ' - tradução correta?', frase=='swabbie be matey')\n",
        "\n",
        "texto2 = 'hello there students'\n",
        "frase_pirata = traduzirPiratês(dicionário, texto2)\n",
        "frase = \" \".join(frase_pirata)\n",
        "print('A frase em piratês é:', frase, ' - tradução correta?', frase=='avast there swabbies')\n",
        "\n",
        "texto3 = 'the student is a girl'\n",
        "frase_pirata = traduzirPiratês(dicionário, texto3)\n",
        "frase = \" \".join(frase_pirata)\n",
        "print('A frase em piratês é:', frase, ' - tradução correta?', frase=='th’ swabbie be a girl')"
      ]
    },
    {
      "cell_type": "markdown",
      "id": "ce0f7ae2",
      "metadata": {
        "id": "ce0f7ae2"
      },
      "source": [
        "#### 14) Exercício sobre programação orientada a objetos\n",
        "\n",
        "Um membro de uma universidade **É** um professor ou ele **É** um aluno. Baseado nessa afirmação, implemente todas as classes do diagrama de classes abaixo.\n",
        "\n",
        "![universidade2.png](data:image/png;base64,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)\n",
        "\n",
        "Seguem algumas dicas para a implementação das classes:\n",
        "\n",
        "1. O relacionamento do membro significa se ele é um professor ou aluno da universidade. Nós podemos obter o nome da classe a qual uma instância (i.e., um objeto) pertence utilizando `__class__.__name__`, como mostrado no trecho de código abaixo.\n",
        "```python\n",
        "def getRelacionamento(self):\n",
        "       return __class__.__name__\n",
        "```\n",
        "2. O Atributo privado `disciplinas` da classe `Membro` é uma **lista de strings** que irá conter em cada elemento a string de uma disciplina. Para um objeto da classe `Professor` esse atributo irá armazenar as disciplinas ministradas por aquele professor e para um objeto da classe `Aluno`, o atributo irá armazenar as disciplinas em que o aluno está matriculado.\n",
        "3. O método `addDisciplina` da classe `Membro` adiciona uma disciplina à lista de `disciplinas` caso aquela disciplina **NÃO** esteja presente na lista e retorna `True`. Caso contrário, a disciplina não é adicionada à lista e o valor `False` é retornado.\n",
        "4. O método `removeDisciplina` da classe `Membro` remove uma disciplina da lista de `disciplinas` caso aquela disciplina **ESTEJA** presente na lista e retorna `True`. Caso contrário, o método retorna o valor `False`.\n",
        "5. O método `getDisciplinas` da classe `Membro` retorna a **lista de disciplinas**.\n",
        "6. O método `getDisciplina`  da classe `Membro` verifica se uma determinada disciplina, passada como parâmetro para método, está presente na lista de disciplinas. O método retorna `True` caso a disciplina esteja presente e `False` caso contrário.\n",
        "7. Os métodos `get` e `set` das classes `Professor` e `Aluno` apenas retornam e configuram os atributos `salário` e `matrícula` destas duas classes."
      ]
    },
    {
      "cell_type": "code",
      "execution_count": null,
      "id": "6d6d1985",
      "metadata": {
        "id": "6d6d1985"
      },
      "outputs": [],
      "source": [
        "# Implemente aqui o código do exercício.\n",
        "\"\"\"\n",
        "author@ Hyago\n",
        "este código no caso temos 3 classes 1 sendo pai 2 filhos\n",
        "onde cada uma destas possuem argumentos que serão utilizadas em outras classes\n",
        "e também como funções métodos, onde temos para mostrar valores alterar valores e adicionar ou remover\n",
        "lidando com POO em PYTHON\n",
        "\n",
        "\"\"\"\n",
        "#classe pai Membro\n",
        "class Membro:\n",
        "  # construtor dos atributos\n",
        "  def __init__(self,nome,dataDeNascimento):\n",
        "    #criando atributos privados da classe pai Membro\n",
        "    self.__nome=nome\n",
        "    self.__dataDeNascimento=dataDeNascimento\n",
        "    self.__disciplinas=[]\n",
        "  #metodo para pegar class name Aluno ou Professor\n",
        "  def getRelacionamento(self):\n",
        "    return type(self).__name__\n",
        "  #metodo para adicionar disciplinas\n",
        "  def addDisciplina(self, disciplina):\n",
        "    if disciplina not in self.__disciplinas:\n",
        "      self.__disciplinas.append(disciplina)\n",
        "      return True\n",
        "    else:\n",
        "      return False\n",
        "  #metodo para remover disciplinas\n",
        "  def removeDisciplina(self, disciplina):\n",
        "    if disciplina in self.__disciplinas:\n",
        "      self.__disciplinas.remove(disciplina)\n",
        "      return True\n",
        "    else:\n",
        "      return False\n",
        "  #metodo para retornar as disciplinas\n",
        "  def getDisciplinas(self):\n",
        "    return self.__disciplinas\n",
        "\n",
        "  #metodo para verificar se uma disciplina existe na lista\n",
        "  def getDisciplina(self, disciplina):\n",
        "    if disciplina in self.__disciplinas:\n",
        "      return True\n",
        "    else:\n",
        "      return False\n",
        "\n",
        "#classe filho Professor\n",
        "class Professor(Membro):\n",
        "  #construtor da classe Professor herdando de Membro\n",
        "  def __init__(self,nome,dataDeNascimento,salario):\n",
        "    super().__init__(nome,dataDeNascimento)\n",
        "    self.__salario=salario\n",
        "  #relacionamento das classes\n",
        "  def getRelacionamento(self):\n",
        "    return __class__.__name__\n",
        "  #verificar salário\n",
        "  def getSalário(self):\n",
        "    return self.__salario\n",
        "  #alterar salário\n",
        "  def setSalário(self,valor):\n",
        "    self.__salario = valor\n",
        "\n",
        "#classe filho Aluno\n",
        "class Aluno(Membro):\n",
        "  #construtor da classe Aluno herdando de Membro\n",
        "  def __init__(self,nome,dataDeNascimento,matricula):\n",
        "    super().__init__(nome,dataDeNascimento)\n",
        "    self.__matricula=matricula\n",
        "  #relacionamento das classes\n",
        "  def getRelacionamento(self):\n",
        "    return __class__.__name__\n",
        "  #verificar matrícula\n",
        "  def getMatrícula(self):\n",
        "    return self.__matricula\n",
        "  #alterar matrícula\n",
        "  def setMatrícula(self,valor):\n",
        "    self.__matricula = valor\n"
      ]
    },
    {
      "cell_type": "markdown",
      "id": "1e9a40ee",
      "metadata": {
        "id": "1e9a40ee"
      },
      "source": [
        "Teste sua implementação com o trecho de código abaixo."
      ]
    },
    {
      "cell_type": "code",
      "execution_count": null,
      "id": "0a436453",
      "metadata": {
        "id": "0a436453",
        "colab": {
          "base_uri": "https://localhost:8080/"
        },
        "outputId": "b0a5677f-2329-4693-81c3-7382835ccddc"
      },
      "outputs": [
        {
          "output_type": "stream",
          "name": "stdout",
          "text": [
            "Sua implementação está correta.\n"
          ]
        }
      ],
      "source": [
        "prof = Professor('João Afonso', '12/04/1987', 2000.00)\n",
        "aluno = Aluno('Tiago Nascimento', '23/12/1997', 1234)\n",
        "ret = 0\n",
        "try:\n",
        "    prof.__nome\n",
        "except AttributeError:\n",
        "    ret += 1\n",
        "try:\n",
        "    prof.__dataDeNascimento\n",
        "except AttributeError:\n",
        "    ret += 1\n",
        "try:\n",
        "    prof.__disciplinas\n",
        "except AttributeError:\n",
        "    ret += 1\n",
        "try:\n",
        "    prof.__salário\n",
        "except AttributeError:\n",
        "    ret += 1\n",
        "try:\n",
        "    aluno.__matrícula\n",
        "except AttributeError:\n",
        "    ret += 1\n",
        "if(prof.getRelacionamento()=='Professor'):\n",
        "    ret += 1\n",
        "if(aluno.getRelacionamento()=='Aluno'):\n",
        "    ret += 1\n",
        "if(len(prof.getDisciplinas())==0):\n",
        "    ret += 1\n",
        "if(prof.addDisciplina('C126')==True):\n",
        "    ret += 1\n",
        "if(len(prof.getDisciplinas())==1):\n",
        "    ret += 1\n",
        "if(prof.addDisciplina('C126')==False):\n",
        "    ret += 1\n",
        "if(prof.removeDisciplina('C126')==True):\n",
        "    ret += 1\n",
        "if(len(prof.getDisciplinas())==0):\n",
        "    ret += 1\n",
        "if(prof.removeDisciplina('C126')==False):\n",
        "    ret += 1\n",
        "if(prof.getSalário()==2000.00):\n",
        "    ret += 1\n",
        "prof.setSalário(4000.00)\n",
        "if(prof.getSalário()==4000.00):\n",
        "    ret += 1\n",
        "if(len(aluno.getDisciplinas())==0):\n",
        "    ret += 1\n",
        "if(aluno.addDisciplina('C126')==True):\n",
        "    ret += 1\n",
        "if(len(aluno.getDisciplinas())==1):\n",
        "    ret += 1\n",
        "if(aluno.addDisciplina('C126')==False):\n",
        "    ret += 1\n",
        "if(aluno.removeDisciplina('C126')==True):\n",
        "    ret += 1\n",
        "if(len(aluno.getDisciplinas())==0):\n",
        "    ret += 1\n",
        "if(aluno.removeDisciplina('C126')==False):\n",
        "    ret += 1\n",
        "if(aluno.getMatrícula()==1234):\n",
        "    ret += 1\n",
        "aluno.setMatrícula(5678)\n",
        "if(aluno.getMatrícula()==5678):\n",
        "    ret += 1\n",
        "if(ret==25):\n",
        "    print('Sua implementação está correta.')\n",
        "else:\n",
        "    print('Sua implementação NÃO está correta.')"
      ]
    },
    {
      "cell_type": "markdown",
      "id": "7b488d42",
      "metadata": {
        "id": "7b488d42"
      },
      "source": [
        "#### 15) Exercício sobre a biblioteca NumPy.\n",
        "\n",
        "Implemente uma função chamada `quantidadeDeValoresIguais` que recebe uma array `x` e um valor `valor` como argumentos de entrada e retorna a quantidade de elementos em `x` iguais a `valor`.\n",
        "\n",
        "**DICAS**\n",
        "\n",
        "+ Você vai precisar usar indexação com filtragem condicional e a função `np.sum()` da biblioteca NumPy para resolver este exercício.\n",
        "+ Lembre-se que a filtragem condicional retorna uma array com as mesmas dimensões da array original, mas com valores booleanos.\n",
        "+ Lembre-se também que o tipo Booleano é uma especialização do tipo dos inteiros e que em uma soma, por exemplo, o interpretador Python infere o valor booleano `True` como o valor inteiro `1` e `False` como `0`.\n",
        "+ Portanto, pode-se usar a função `np.sum()` para somar os elementos de uma array de valores booleanos."
      ]
    },
    {
      "cell_type": "code",
      "execution_count": null,
      "id": "0c678c38",
      "metadata": {
        "id": "0c678c38"
      },
      "outputs": [],
      "source": [
        "# Implemente aqui o código da função.\n",
        "\"\"\"\n",
        "author@ Hyago\n",
        "\n",
        "esta função faz uma verificação de filtragem condicional dentro de um array Numpy a quantidade de valores que foram iguais ao valor colocado\n",
        "como referência a pesquisar dentro do array\n",
        "\"\"\"\n",
        "def quantidadeDeValoresIguais(numpyarray, valor):\n",
        "  # filtragem condicional e retorna uma array de valores booleanos\n",
        "  valores_iguais = numpyarray == valor\n",
        "  # Usa a função np.sum() para somar os elementos da array booleana\n",
        "  valores = np.sum(valores_iguais)\n",
        "  return valores\n"
      ]
    },
    {
      "cell_type": "markdown",
      "id": "07950c0d",
      "metadata": {
        "id": "07950c0d"
      },
      "source": [
        "Teste sua implementação com o código abaixo."
      ]
    },
    {
      "cell_type": "code",
      "execution_count": null,
      "id": "561108fd",
      "metadata": {
        "id": "561108fd",
        "colab": {
          "base_uri": "https://localhost:8080/"
        },
        "outputId": "a61720a7-4a7e-4e19-9817-4cde99ae79b2"
      },
      "outputs": [
        {
          "output_type": "stream",
          "name": "stdout",
          "text": [
            "Teste 7: Implementação está correta.\n"
          ]
        }
      ],
      "source": [
        "ret = 0\n",
        "\n",
        "x = np.array([[0, 10, 20], [20, 10, 40]])\n",
        "retorno = quantidadeDeValoresIguais(x, 10)\n",
        "if(retorno == 2):\n",
        "    ret += 1\n",
        "\n",
        "x = np.array([[0, 10, 20]])\n",
        "retorno = quantidadeDeValoresIguais(x, 10)\n",
        "if(retorno == 1):\n",
        "    ret += 1\n",
        "\n",
        "x = np.array([0, 10, 20])\n",
        "retorno = quantidadeDeValoresIguais(x, 30)\n",
        "if(retorno == 0):\n",
        "    ret += 1\n",
        "\n",
        "if(ret == 3):\n",
        "    print('Teste 7: Implementação está correta.')\n",
        "else:\n",
        "    print('Teste 7: Implementação NÃO está correta.')"
      ]
    },
    {
      "cell_type": "markdown",
      "id": "e4bf071a",
      "metadata": {
        "id": "e4bf071a"
      },
      "source": [
        "#### 16)  Exercício sobre a biblioteca NumPy.\n",
        "\n",
        "Crie duas funções chamadas `extrairNúmerosPares` e `extrairNúmerosImpares` que recebam uma array NumPy como argumento de entrada e retornem todos os números pares e ímpares da array de entrada, respectivamente, usando indexação com filtragem condicional.\n",
        "\n",
        "**OBS**.: Use filtragem condicional para implementar as funções."
      ]
    },
    {
      "cell_type": "code",
      "execution_count": null,
      "id": "db83d576",
      "metadata": {
        "id": "db83d576"
      },
      "outputs": [],
      "source": [
        "# Implemente aqui o código da função.\n",
        "\"\"\"\n",
        "author@ Hyago\n",
        "\n",
        "estas funções extrai numeros pares e impares de acordo com filtragem condicional\n",
        "\"\"\"\n",
        "def extrairNúmerosPares(array):\n",
        "  # Filtragem condicional para extrair números pares\n",
        "  numeros_pares = array[array % 2 == 0]\n",
        "  return numeros_pares\n",
        "def extrairNúmerosImpares(array):\n",
        "  # Filtragem condicional para extrair números ímpares\n",
        "  numeros_impares = array[array % 2 != 0]\n",
        "  return numeros_impares"
      ]
    },
    {
      "cell_type": "markdown",
      "id": "c65d0415",
      "metadata": {
        "id": "c65d0415"
      },
      "source": [
        "Teste sua implementação com o código abaixo."
      ]
    },
    {
      "cell_type": "code",
      "execution_count": null,
      "id": "bb149d38",
      "metadata": {
        "id": "bb149d38",
        "colab": {
          "base_uri": "https://localhost:8080/"
        },
        "outputId": "7321c9e9-fee5-4bb5-bbd4-bae02d71a714"
      },
      "outputs": [
        {
          "output_type": "stream",
          "name": "stdout",
          "text": [
            "Teste 1: Implementação está correta.\n",
            "Teste 2: Implementação está correta.\n"
          ]
        }
      ],
      "source": [
        "import numpy as np\n",
        "\n",
        "a = np.array([0,1,2,3,4,5,6,7,8,9])\n",
        "\n",
        "ret = True\n",
        "if ( (extrairNúmerosPares(a) != np.array([0,2,4,6,8])).all()):\n",
        "    ret = False\n",
        "\n",
        "if(ret == True):\n",
        "    print('Teste 1: Implementação está correta.')\n",
        "else:\n",
        "    print('Teste 1: Implementação NÃO está correta.')\n",
        "\n",
        "ret = True\n",
        "if ( (extrairNúmerosImpares(a) != np.array([1,3,5,7,9])).all()):\n",
        "    ret = False\n",
        "\n",
        "if(ret == True):\n",
        "    print('Teste 2: Implementação está correta.')\n",
        "else:\n",
        "    print('Teste 2: Implementação NÃO está correta.')"
      ]
    },
    {
      "cell_type": "markdown",
      "id": "47d80f63",
      "metadata": {
        "id": "47d80f63"
      },
      "source": [
        "#### 17) Exercício sobre as bibliotecas NumPy e Matplotlib.\n",
        "\n",
        "Plote um gráfico exatamente como o mostrado na figura abaixo.\n",
        "\n",
        "\n",
        "![lab8_ex2.png](data:image/png;base64,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)\n",
        "\n",
        "**DICAS**:\n",
        "\n",
        "+ A função mostrada na figura é $y = x^2$.\n",
        "+ Use 100 pontos (ou valores).\n",
        "+ O gráfico deve ter 5 polegadas de largura e 4 polegadas de altura. O tamanho da figura é configurado com o parâmetro `figsize` sendo passado para a função `figure` da biblioteca Matplotlib.\n",
        "+ Salve seu gráfico em uma arquivo com extensão `png`.\n",
        "+ Use a função `linspace` da biblioteca NumPy para gerar os valores no intervalo mostrado.\n",
        "+ Use **indexação com filtragem condicional** para seprar os pontos em dois intervalos distintos e conseguir plotá-los com cores diferentes."
      ]
    },
    {
      "cell_type": "code",
      "execution_count": null,
      "id": "7dbe52f2",
      "metadata": {
        "id": "7dbe52f2",
        "colab": {
          "base_uri": "https://localhost:8080/",
          "height": 526
        },
        "outputId": "c5bac2f2-1f78-459b-a035-52c662dfe506"
      },
      "outputs": [
        {
          "output_type": "display_data",
          "data": {
            "text/plain": [
              "<Figure size 600x550 with 1 Axes>"
            ],
            "image/png": "[encoded data removed]"
          },
          "metadata": {}
        }
      ],
      "source": [
        "# Implemente aqui o código da função.\n",
        "\"\"\"\n",
        "author@ Hyago\n",
        "\n",
        "este código implementa uma parábola demonstrada no gráfico com algumas estilizações\n",
        "feitas com filtragem condicional, utilizando numpy e matplotlib\n",
        "\"\"\"\n",
        "import matplotlib.pyplot as plt\n",
        "import numpy as np\n",
        "# Criando os pontos sendo 100 entre -10 a 10 e gerando a função\n",
        "x = np.linspace(-10, 10, 100)\n",
        "y = x**2\n",
        "\n",
        "# Filtragem condicional para separar os pontos em dois intervalos distintos\n",
        "x_cond1 = x[x <= 0]\n",
        "y_cond1 = y[x <= 0]\n",
        "x_cond2 = x[x > 0]\n",
        "y_cond2 = y[x > 0]\n",
        "\n",
        "#tamanho da figura\n",
        "plt.figure(figsize=(6, 5.5))\n",
        "#plotando com as condicoes e com legenda\n",
        "plt.plot(x_cond1, y_cond1, 'r--', label='x ≤ 0')\n",
        "plt.plot(x_cond2, y_cond2, 'b-', label='x > 0')\n",
        "#titulo, eixo x e y\n",
        "plt.title('Lab. 7 - Exercício 2')\n",
        "plt.xlabel('x')\n",
        "plt.ylabel('y')\n",
        "#grid\n",
        "plt.grid()\n",
        "#ativando legenda\n",
        "plt.legend()\n",
        "plt.show()\n"
      ]
    },
    {
      "cell_type": "markdown",
      "id": "94e5b994",
      "metadata": {
        "id": "94e5b994"
      },
      "source": [
        "#### 18) Exercício sobre a biblioteca Pandas.\n",
        "\n",
        "Neste exercício, você deve encontrar, usando apenas métodos da classe `DataFrame`, a empresa com o carro mais caro que consta no arquivo `automobile_data.csv`.\n",
        "\n",
        "**DICAS**\n",
        "\n",
        "+ Baixe o arquivo `automobile_data.csv` do github e faça seu upload para o google colab.\n",
        "+ Para ler o arquivo, use a função `read_csv` da biblioteca Pandas.\n",
        "+ Para criar a sub-tabela (ou seja o **sub-DataFrame**) e encontrar a empresa com carro mais caro, use as colunas `company`  e `price`."
      ]
    },
    {
      "cell_type": "code",
      "execution_count": null,
      "id": "c871fbfd",
      "metadata": {
        "id": "c871fbfd",
        "colab": {
          "base_uri": "https://localhost:8080/"
        },
        "outputId": "4780f60d-e60a-4dfc-ab83-5c9ac844fd1a"
      },
      "outputs": [
        {
          "output_type": "stream",
          "name": "stdout",
          "text": [
            "A empresa com o carro mais caro é:\n",
            "          company    price\n",
            "35  mercedes-benz  45400.0\n"
          ]
        }
      ],
      "source": [
        "# Implemente aqui o código da função.\n",
        "\"\"\"\n",
        "author@ Hyago\n",
        "\n",
        "Este código no caso le uma base de dados existente, e cria um subdataframe para mostras\n",
        "o valor onde é máximo e qual seria a compania ou a empresa responsável pelo carro mais caro\n",
        "\"\"\"\n",
        "# Ler o arquivo CSV e criar o DataFrame\n",
        "data = pd.read_csv('automobile_data.csv')\n",
        "\n",
        "# Criar um sub-DataFrame com as colunas 'company' e 'price'\n",
        "sub_dataframe = data[['company', 'price']]\n",
        "\n",
        "# Encontrar a empresa com o carro mais caro com filtragem condicional\n",
        "carro_mais_caro = sub_dataframe[sub_dataframe['price'] == sub_dataframe['price'].max()]\n",
        "# Printando agora o subdataframe criado de acordo com a seleção feita anterior\n",
        "print('A empresa com o carro mais caro é:')\n",
        "print(carro_mais_caro)\n"
      ]
    },
    {
      "cell_type": "markdown",
      "id": "518f9fe4",
      "metadata": {
        "id": "518f9fe4"
      },
      "source": [
        "#### 19) Exercício sobre leitura e escrita de arquivos.\n",
        "\n",
        "Implemente uma função chamada `calcularValoresMédios` que receba um arquivo CSV como parâmetro de entrada, calcule e retorne a média da frequência cardíaca e da temperatura corporal dos usuários presentes no arquivo.\n",
        "\n",
        "**DICAS**:\n",
        "\n",
        "1. Lembre-se que a primeira linha do arquivo CSV contém os nomes de cada coluna.\n",
        "2. Os nomes das colunas são: `ID`, `Sexo`, `Idade`, `Altura`, `Duração`, `Distância`, `Batimento_Cardíaco` e `Temperatura_Corporal`."
      ]
    },
    {
      "cell_type": "code",
      "execution_count": null,
      "id": "8d4487e9",
      "metadata": {
        "id": "8d4487e9"
      },
      "outputs": [],
      "source": [
        "# Implemente aqui o código da função.w\n",
        "\"\"\"\n",
        "author@ Hyago\n",
        "\n",
        "esta função calcula valores médios referente a frequencia e temperatura de um arquivo existente csv criado com base em uma lista\n",
        "convertida em csv\n",
        "\"\"\"\n",
        "import pandas as pd\n",
        "def calcularValoresMédios(arquivo):\n",
        "  #ler arquivo csv e criando dataframe\n",
        "  dados = pd.read_csv(arquivo)\n",
        "  #subdataframe com temperatura e frequencia cardiaca média\n",
        "  media_freq = dados['Batimento_Cardíaco'].mean()\n",
        "  media_temp = dados['Temperatura_Corporal'].mean()\n",
        "\n",
        "  return media_freq, media_temp\n",
        "\n",
        "\n",
        "\n",
        "\n"
      ]
    },
    {
      "cell_type": "markdown",
      "id": "0f0ad114",
      "metadata": {
        "id": "0f0ad114"
      },
      "source": [
        "Teste sua implementação com o código abaixo, o qual deve resultar na seguinte saída esperada:\n",
        "\n",
        "```python\n",
        "Batimento cardíaco médio: 93.0625\n",
        "Temperatura corporal média: 39.981249999999996\n",
        "```"
      ]
    },
    {
      "cell_type": "code",
      "execution_count": null,
      "id": "13c9b33a",
      "metadata": {
        "id": "13c9b33a",
        "colab": {
          "base_uri": "https://localhost:8080/"
        },
        "outputId": "df6c4cac-4794-4e02-f0bb-18aaf3f0e51a"
      },
      "outputs": [
        {
          "output_type": "stream",
          "name": "stdout",
          "text": [
            "Batimento cardíaco médio: 93.0625\n",
            "Temperatura corporal média: 39.98125\n"
          ]
        }
      ],
      "source": [
        "import csv\n",
        "\n",
        "linhas = [\n",
        "    ['ID','Sexo','Idade','Altura','Duração','Distância','Batimento_Cardíaco','Temperatura_Corporal'],\n",
        "    [14733363,'masculino',68,190.0,94.0,29.0,105.0,40.8],\n",
        "    [14861698,'feminino',20,166.0,60.0,14.0,94.0,40.3],\n",
        "    [11179863,'masculino',69,179.0,79.0,5.0,88.0,38.7],\n",
        "    [16180408,'feminino',34,179.0,71.0,13.0,100.0,40.5],\n",
        "    [17771927,'feminino',27,154.0,58.0,10.0,81.0,39.8],\n",
        "    [15130815,'feminino',36,151.0,50.0,23.0,96.0,40.7],\n",
        "    [19602372,'feminino',33,158.0,56.0,22.0,95.0,40.5],\n",
        "    [11117088,'masculino',41,175.0,85.0,25.0,100.0,40.7],\n",
        "    [12132339,'masculino',60,186.0,94.0,21.0,97.0,40.4],\n",
        "    [17964668,'feminino',26,146.0,51.0,16.0,90.0,40.2],\n",
        "    [13723164,'feminino',36,177.0,76.0,1.0,74.0,37.8],\n",
        "    [13681290,'feminino',21,157.0,56.0,17.0,100.0,40.0],\n",
        "    [15566424,'mamasculinole',66,171.0,79.0,11.0,90.0,40.0],\n",
        "    [12891699,'feminino',32,157.0,54.0,18.0,93.0,40.4],\n",
        "    [13823829,'masculino',53,182.0,85.0,2.0,82.0,38.1],\n",
        "    [17557348,'feminino',39,156.0,62.0,28.0,104.0,40.8]\n",
        "]\n",
        "\n",
        "with open('exercicios.csv', 'w', newline='') as f:\n",
        "    csv_writer = csv.writer(f, delimiter=',')\n",
        "    csv_writer.writerows(linhas)\n",
        "\n",
        "avgHeartRate, avgTemp = calcularValoresMédios('exercicios.csv')\n",
        "print('Batimento cardíaco médio:', avgHeartRate)\n",
        "print('Temperatura corporal média:', avgTemp)"
      ]
    },
    {
      "cell_type": "markdown",
      "id": "70235310",
      "metadata": {
        "id": "70235310"
      },
      "source": [
        "#### 20) Exercício sobre leitura e escrita de arquivos.\n",
        "\n",
        "Implemente uma função chamada `imprimirNotasDosAlunos` que imprime o nome e as notas dos alunos que têm mais de seis notas. Esta função deve receber como parâmetro de entrada o nome de um arquivo. Este arquivo contém uma linha para cada aluno de uma turma de estudantes. O nome de cada estudante está no início de cada linha e é seguido pelas suas notas."
      ]
    },
    {
      "cell_type": "code",
      "execution_count": null,
      "id": "1d29926e",
      "metadata": {
        "id": "1d29926e"
      },
      "outputs": [],
      "source": [
        "# Implemente aqui o código da função.\n",
        "\"\"\"\n",
        "author@ Hyago\n",
        "\n",
        "Esta função imprime as notas e os nomes dos alunos em linha,\n",
        "de acordo com os alunos que possuírem 6 notas pelomenos ou mais\n",
        "separadamente sendo arquivo recebido txt\n",
        "\"\"\"\n",
        "def imprimirNotasDosAlunos(arquivo):\n",
        "    # Abrir o arquivo para ler\n",
        "    with open(arquivo, \"r\") as arq:\n",
        "        # as linhas do arquivo\n",
        "        linhas = arq.readlines()\n",
        "    # Processar cada linha do arquivo separada\n",
        "    for linha in linhas:\n",
        "        # Dividir a linha em palavras usando o espaço como separador\n",
        "        palavras = linha.split()\n",
        "        # O primeiro elemento nome do aluno\n",
        "        nome_aluno = palavras[0]\n",
        "        # as notas são os valores seguintes até o final\n",
        "        notas = palavras[1:]\n",
        "        # Verificar se o aluno tem seis notas ou mais\n",
        "        if len(notas) >= 6:\n",
        "            # Imprimir as informações do aluno\n",
        "            notas_formatadas = \", \".join(notas)\n",
        "            print('Aluno:', nome_aluno, '- Notas:', notas_formatadas)"
      ]
    },
    {
      "cell_type": "markdown",
      "id": "b460f1bd",
      "metadata": {
        "id": "b460f1bd"
      },
      "source": [
        "Teste sua implementação com o código abaixo, o qual deve resultar na seguinte saída esperada:\n",
        "\n",
        "```python\n",
        "Aluno: suzana - Notas: 8, 22, 17, 14, 32, 17, 24, 21, 2, 9, 11, 17\n",
        "Aluno: gisela - Notas: 12, 28, 21, 45, 26, 10\n",
        "```"
      ]
    },
    {
      "cell_type": "code",
      "execution_count": null,
      "id": "47715995",
      "metadata": {
        "id": "47715995",
        "colab": {
          "base_uri": "https://localhost:8080/"
        },
        "outputId": "8e5dbe36-e89e-41ed-d5df-efd82b81cd57"
      },
      "outputs": [
        {
          "output_type": "stream",
          "name": "stdout",
          "text": [
            "Aluno: suzana - Notas: 8, 22, 17, 14, 32, 17, 24, 21, 2, 9, 11, 17\n",
            "Aluno: gisela - Notas: 12, 28, 21, 45, 26, 10\n"
          ]
        }
      ],
      "source": [
        "notas = [\n",
        "    'jose 10 15 20 30 40\\n',\n",
        "    'pedro 23 16 19 22\\n',\n",
        "    'suzana 8 22 17 14 32 17 24 21 2 9 11 17\\n',\n",
        "    'gisela 12 28 21 45 26 10\\n',\n",
        "    'joao 14 32 25 16 89'\n",
        "]\n",
        "\n",
        "with open('notas_alunos.txt', 'w') as f:\n",
        "    f.writelines(notas)\n",
        "\n",
        "imprimirNotasDosAlunos('notas_alunos.txt')"
      ]
    },
    {
      "cell_type": "code",
      "source": [],
      "metadata": {
        "id": "O8_DR9xgXCg4"
      },
      "id": "O8_DR9xgXCg4",
      "execution_count": null,
      "outputs": []
    }
  ],
  "metadata": {
    "kernelspec": {
      "display_name": "Python 3 (ipykernel)",
      "language": "python",
      "name": "python3"
    },
    "language_info": {
      "codemirror_mode": {
        "name": "ipython",
        "version": 3
      },
      "file_extension": ".py",
      "mimetype": "text/x-python",
      "name": "python",
      "nbconvert_exporter": "python",
      "pygments_lexer": "ipython3",
      "version": "3.10.9"
    },
    "colab": {
      "provenance": []
    }
  },
  "nbformat": 4,
  "nbformat_minor": 5
}